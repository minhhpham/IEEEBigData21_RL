{
 "cells": [
  {
   "cell_type": "code",
   "execution_count": null,
   "metadata": {},
   "outputs": [],
   "source": [
    "#################################################################################\n",
    "# Here we aim to cluster users based on Click History and User Portraits\n",
    "# 1. The goal is to use DBSCAN to cluster users\n",
    "# 2. Hyper parameter estimation:\n",
    "#    epsilon: use k-nearest neighbors to find the optimal average distance\n",
    "#    minpts: k\n",
    "#################################################################################"
   ]
  },
  {
   "cell_type": "code",
   "execution_count": 1,
   "metadata": {},
   "outputs": [],
   "source": [
    "import os\n",
    "os.chdir('/tf/shared')\n",
    "from tqdm import tqdm"
   ]
  },
  {
   "cell_type": "code",
   "execution_count": 2,
   "metadata": {},
   "outputs": [
    {
     "name": "stdout",
     "output_type": "stream",
     "text": [
      "Number of Multiprocessing threads: 31\n",
      "(260087, 390)\n"
     ]
    }
   ],
   "source": [
    "# 0. Read User Feature Data\n",
    "from DataPrep import getUserFeaturesTrainSet\n",
    "data = getUserFeaturesTrainSet()\n",
    "print(data.shape)"
   ]
  },
  {
   "cell_type": "code",
   "execution_count": null,
   "metadata": {},
   "outputs": [],
   "source": [
    "# 2. Parameter tuning with K-nearest neighbor\n",
    "from sklearn.neighbors import NearestNeighbors\n",
    "import multiprocessing as mp\n",
    "from matplotlib import pyplot as plt\n",
    "from tqdm import tqdm\n",
    "\n",
    "data_subset = data[::5]\n",
    "K = list(range(5, 1001))\n",
    "eps = []\n",
    "\n",
    "def avgDist1(distances):\n",
    "    return (sum(distances) - distances[0])/(len(distances)-1)\n",
    "def avgDist(distanceMatrix):\n",
    "    avgs = []\n",
    "    for x in distanceMatrix:\n",
    "        avgs.append(avgDist1(x))\n",
    "    return sum(avgs)/len(avgs)\n",
    "\n",
    "for k in tqdm(K):\n",
    "    NN = NearestNeighbors(n_neighbors = k, n_jobs = -1)\n",
    "    NN.fit(data_subset)\n",
    "    d, _ = NN.kneighbors(data_subset, n_neighbors = k + 1)\n",
    "    # take average distance\n",
    "    avg_dist = avgDist(d)\n",
    "    eps.append(avg_dist)\n",
    "\n",
    "# plt.plot(K, eps)\n",
    "# plt.show()\n",
    "# this part of script was run on GAIVI\n"
   ]
  },
  {
   "cell_type": "code",
   "execution_count": 33,
   "metadata": {},
   "outputs": [
    {
     "data": {
      "image/png": "[encoded data removed]",
      "text/plain": [
       "<Figure size 432x288 with 1 Axes>"
      ]
     },
     "metadata": {
      "needs_background": "light"
     },
     "output_type": "display_data"
    }
   ],
   "source": [
    "gaivi_output = open('data/gaivi_job.out')\n",
    "lines = gaivi_output.readlines()\n",
    "eps = [float(s.strip('\\n')) for s in lines]\n",
    "K = list(range(5, 1001))\n",
    "plt.plot(K, eps)\n",
    "plt.show()\n",
    "# determine 400 clusters and eps = 4.23"
   ]
  },
  {
   "cell_type": "code",
   "execution_count": null,
   "metadata": {},
   "outputs": [],
   "source": [
    "# try optics \n",
    "from sklearn.cluster import OPTICS\n",
    "optics = OPTICS(min_samples = 900, n_jobs = -1)\n",
    "optics.fit(data)\n",
    "labels = optics.labels_\n",
    "print('number of clusters: ' + str(max(labels)))"
   ]
  },
  {
   "cell_type": "code",
   "execution_count": 54,
   "metadata": {},
   "outputs": [
    {
     "name": "stdout",
     "output_type": "stream",
     "text": [
      "0\n"
     ]
    },
    {
     "data": {
      "image/png": "[encoded data removed]",
      "text/plain": [
       "<Figure size 432x288 with 1 Axes>"
      ]
     },
     "metadata": {
      "needs_background": "light"
     },
     "output_type": "display_data"
    }
   ],
   "source": [
    "from sklearn.cluster import DBSCAN\n",
    "dbscan = DBSCAN(eps = 0.25, min_samples = 600)\n",
    "dbscan.fit(data)\n",
    "labels = dbscan.fit_predict(data)\n",
    "print(max(labels))\n",
    "plt.hist(labels)\n",
    "plt.show()"
   ]
  },
  {
   "cell_type": "raw",
   "metadata": {},
   "source": []
  },
  {
   "cell_type": "code",
   "execution_count": 73,
   "metadata": {},
   "outputs": [
    {
     "name": "stdout",
     "output_type": "stream",
     "text": [
      "[6547, 1866, 1670, 2629, 2265, 1529, 2052, 2317, 2007, 1562, 6448, 1480, 1842, 2669, 1979, 3926, 1584, 2901, 3070, 2026, 5996, 1758, 2598, 1970, 2117, 1866, 1605, 2331, 1560, 1868, 6333, 1933, 3593, 1482, 2380, 1783, 2335, 2646, 2219, 1398, 3607, 1749, 1970, 4345, 3194, 2974, 5261, 1718, 2118, 2797, 2217, 3604, 5282, 4206, 1942, 2179, 1529, 1705, 2590, 1481, 1360, 3105, 3281, 2411, 1679, 2810, 3252, 2165, 5320, 3040, 1396, 2020, 1964, 4268, 2028, 1445, 2893, 5426, 1528, 1417, 2052, 2529, 2011, 1367, 1422, 1478, 7692, 3042, 2021, 2060, 2106, 2356, 1847, 3798, 2075, 1804, 1916, 2183, 3397, 1515]\n",
      "1360\n"
     ]
    }
   ],
   "source": [
    "from sklearn.cluster import KMeans\n",
    "km = KMeans(n_clusters = 100)\n",
    "km.fit(data)\n",
    "labels = km.predict(data)\n",
    "counts = [0]*100\n",
    "for l in labels:\n",
    "    counts[l] = counts[l] + 1\n",
    "print(counts)\n",
    "print(min(counts))"
   ]
  },
  {
   "cell_type": "code",
   "execution_count": 74,
   "metadata": {},
   "outputs": [],
   "source": [
    "# 4. save to pickle\n",
    "import pickle\n",
    "with open('/tf/shared/data/ClusterLabels100.pkl', 'wb') as f:\n",
    "    pickle.dump((km, labels), f)"
   ]
  }
 ],
 "metadata": {
  "kernelspec": {
   "display_name": "Python 3 (ipykernel)",
   "language": "python",
   "name": "python3"
  },
  "language_info": {
   "codemirror_mode": {
    "name": "ipython",
    "version": 3
   },
   "file_extension": ".py",
   "mimetype": "text/x-python",
   "name": "python",
   "nbconvert_exporter": "python",
   "pygments_lexer": "ipython3",
   "version": "3.8.11"
  }
 },
 "nbformat": 4,
 "nbformat_minor": 4
}
