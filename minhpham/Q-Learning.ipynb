{
 "cells": [
  {
   "cell_type": "code",
   "execution_count": 1,
   "metadata": {},
   "outputs": [
    {
     "name": "stdout",
     "output_type": "stream",
     "text": [
      "Number of Multiprocessing threads: 31\n"
     ]
    },
    {
     "data": {
      "image/png": "[encoded data removed]",
      "text/plain": [
       "<Figure size 432x288 with 1 Axes>"
      ]
     },
     "metadata": {
      "needs_background": "light"
     },
     "output_type": "display_data"
    }
   ],
   "source": [
    "########################################################################\n",
    "# Q-Learning approach\n",
    "# First we cluster the trainset by click history and user portraits\n",
    "# For each cluster, we repeatedly update the Q table;\n",
    "#     States:  0-8: the number of items that have been recommended\n",
    "#     Actions: the itemID to be recommended\n",
    "#     Reward:  (whether the item was purchased) * price of the item\n",
    "########################################################################\n",
    "from DataPrep import getClusterLabels\n",
    "from matplotlib import pyplot as plt\n",
    "NCLUSTERS = 50\n",
    "ClusterModel, clusterLabels = getClusterLabels()\n",
    "plt.hist(clusterLabels, bins = NCLUSTERS)\n",
    "plt.show()\n"
   ]
  },
  {
   "cell_type": "code",
   "execution_count": 2,
   "metadata": {},
   "outputs": [],
   "source": [
    "N_ITEMS = 381\n",
    "from QLearning import QLearning\n",
    "from DataPrep import getPurchasedItemsTrainSet\n",
    "# create array of NCLUSTERS Q tables\n",
    "QLModels = []\n",
    "for i in range(NCLUSTERS):\n",
    "    QLModels.append(QLearning(n_states = N_ITEMS+1, n_actions = N_ITEMS+1))\n"
   ]
  },
  {
   "cell_type": "code",
   "execution_count": 5,
   "metadata": {},
   "outputs": [
    {
     "name": "stderr",
     "output_type": "stream",
     "text": [
      "100%|██████████| 260087/260087 [03:37<00:00, 1194.61it/s]\n"
     ]
    }
   ],
   "source": [
    "# prepare data for training\n",
    "# exposed ItemID: state ID\n",
    "# next exposed ItemID: action\n",
    "# initial state = 0\n",
    "import pandas as pd\n",
    "import numpy as np\n",
    "from tqdm import tqdm\n",
    "rawTrainSet = pd.read_csv('/tf/shared/trainset.csv', ' ')\n",
    "itemInfo = pd.read_csv('/tf/shared/item_info.csv', ' ')\n",
    "itemInfo = itemInfo.sort_values(by = 'item_id')\n",
    "itemPrice = itemInfo.price\n",
    "\n",
    "exposedItems = rawTrainSet.exposed_items\n",
    "purchaseLabel = rawTrainSet.labels\n",
    "\n",
    "for i in tqdm(range(len(exposedItems))):\n",
    "    exposed_items = exposedItems[i]\n",
    "    exposed_items = [int(x) for x in exposed_items.split(',')]\n",
    "    purchase_label = purchaseLabel[i]\n",
    "    purchase_label = [int(x) for x in purchase_label.split(',')]\n",
    "    clusterID = clusterLabels[i]\n",
    "    for j in range(9):\n",
    "        if j>2 and purchase_label[0]*purchase_label[1]*purchase_label[2]==0:\n",
    "            # don't train if game stopped\n",
    "            break\n",
    "        if j>5 and purchase_label[3]*purchase_label[4]*purchase_label[5]==0:\n",
    "            # don't train if game stopped\n",
    "            break\n",
    "        # first determine the current state\n",
    "        if j==0:\n",
    "            state = 0\n",
    "        else:\n",
    "            state = exposed_items[j-1]\n",
    "        # then determine action\n",
    "        itemID = exposed_items[j]\n",
    "        action = itemID\n",
    "        # then determine reward = price * purchased\n",
    "        reward = itemPrice[itemID-1] * purchase_label[j]\n",
    "        train_data = np.array([(state, action, reward)])\n",
    "        QLModels[clusterID].train(train_data)\n",
    "\n"
   ]
  },
  {
   "cell_type": "code",
   "execution_count": 7,
   "metadata": {},
   "outputs": [
    {
     "name": "stderr",
     "output_type": "stream",
     "text": [
      "100%|██████████| 206096/206096 [06:32<00:00, 525.49it/s]"
     ]
    },
    {
     "name": "stdout",
     "output_type": "stream",
     "text": [
      "[ 7 33  7 12  5 44  0 33 31 43 10 27 37 15 33  0 12 38 33  0 16 27 27  5\n",
      " 44 48 45 31 49 25 25 12 29 15 12 15  5 43 19 33 13 37 44 29  5 42 37 12\n",
      " 42 37]\n",
      "[[1, 7, 29, 17, 20, 26, 15, 34, 24], [1, 7, 15, 20, 6, 17, 34, 21, 4], [1, 7, 29, 17, 20, 26, 15, 34, 24], [1, 15, 7, 20, 4, 6, 29, 21, 34], [1, 7, 15, 4, 6, 17, 26, 34, 29], [1, 7, 20, 15, 4, 6, 17, 29, 18], [7, 1, 20, 15, 6, 4, 17, 29, 34], [1, 7, 15, 20, 6, 17, 34, 21, 4], [20, 15, 4, 1, 26, 6, 34, 29, 19], [1, 15, 20, 4, 17, 29, 26, 34, 21], [7, 15, 20, 1, 34, 6, 4, 21, 19], [1, 7, 20, 15, 4, 6, 17, 26, 34], [7, 15, 20, 4, 34, 26, 29, 18, 6], [1, 7, 34, 26, 20, 21, 15, 17, 33], [1, 7, 15, 20, 6, 17, 34, 21, 4], [7, 1, 20, 15, 6, 4, 17, 29, 34], [1, 15, 7, 20, 4, 6, 29, 21, 34], [7, 1, 20, 15, 4, 6, 17, 29, 26], [1, 7, 15, 20, 6, 17, 34, 21, 4], [7, 1, 20, 15, 6, 4, 17, 29, 34], [7, 1, 20, 15, 4, 6, 17, 26, 29], [1, 7, 20, 15, 4, 6, 17, 26, 34], [1, 7, 20, 15, 4, 6, 17, 26, 34], [1, 7, 15, 4, 6, 17, 26, 34, 29], [1, 7, 20, 15, 4, 6, 17, 29, 18], [1, 7, 20, 15, 6, 4, 17, 26, 29], [1, 20, 4, 29, 18, 26, 21, 24, 31], [20, 15, 4, 1, 26, 6, 34, 29, 19], [7, 20, 15, 1, 4, 34, 17, 21, 26], [1, 20, 7, 17, 34, 29, 21, 6, 15], [1, 20, 7, 17, 34, 29, 21, 6, 15], [1, 15, 7, 20, 4, 6, 29, 21, 34], [7, 20, 15, 4, 6, 34, 30, 24, 26], [1, 7, 34, 26, 20, 21, 15, 17, 33], [1, 15, 7, 20, 4, 6, 29, 21, 34], [1, 7, 34, 26, 20, 21, 15, 17, 33], [1, 7, 15, 4, 6, 17, 26, 34, 29], [1, 15, 20, 4, 17, 29, 26, 34, 21], [7, 1, 15, 20, 4, 6, 17, 26, 29], [1, 7, 15, 20, 6, 17, 34, 21, 4], [1, 7, 15, 20, 6, 4, 29, 26, 34], [7, 15, 20, 4, 34, 26, 29, 18, 6], [1, 7, 20, 15, 4, 6, 17, 29, 18], [7, 20, 15, 4, 6, 34, 30, 24, 26], [1, 7, 15, 4, 6, 17, 26, 34, 29], [7, 15, 4, 26, 34, 30, 18, 21, 20], [7, 15, 20, 4, 34, 26, 29, 18, 6], [1, 15, 7, 20, 4, 6, 29, 21, 34], [7, 15, 4, 26, 34, 30, 18, 21, 20], [7, 15, 20, 4, 34, 26, 29, 18, 6]]\n"
     ]
    },
    {
     "name": "stderr",
     "output_type": "stream",
     "text": [
      "\n"
     ]
    }
   ],
   "source": [
    "### predict test set\n",
    "# predict cluster groups of test set\n",
    "from DataPrep import getUserFeaturesTestSet\n",
    "userIDs, userFeaturesTestSet = getUserFeaturesTestSet()\n",
    "testset_label = ClusterModel.predict(userFeaturesTestSet)\n",
    "\n",
    "# generate item sets for each test case\n",
    "output = []\n",
    "for clusterLabel in tqdm(testset_label):\n",
    "    recommendedItems = QLModels[clusterLabel].nextNSteps(0, 9)\n",
    "    output.append(recommendedItems)\n",
    "    \n",
    "\n"
   ]
  },
  {
   "cell_type": "code",
   "execution_count": 8,
   "metadata": {},
   "outputs": [],
   "source": [
    "# save to output\n",
    "# format data according to submission format and write to file\n",
    "outFile = '/tf/shared/track2_output.csv'\n",
    "f = open(outFile, \"w\")\n",
    "f.write('id,itemids')\n",
    "for i in range(len(userIDs)):\n",
    "    f.write('\\n')\n",
    "    itemList = output[i]\n",
    "    itemString = ' '.join([str(j) for j in itemList])\n",
    "    outString = str(userIDs[i]) + ',' + itemString\n",
    "    f.write(outString)"
   ]
  },
  {
   "cell_type": "code",
   "execution_count": 12,
   "metadata": {},
   "outputs": [
    {
     "name": "stderr",
     "output_type": "stream",
     "text": [
      "100%|██████████| 260087/260087 [08:23<00:00, 516.25it/s]\n"
     ]
    }
   ],
   "source": [
    "##### this part is for testing Metrics\n",
    "# clusterLabels is cluster labels on train set\n",
    "# generate recommended item sets for each train case by using QLearning\n",
    "output_trainset = []\n",
    "for clusterLabel in tqdm(clusterLabels):\n",
    "    recommendedItems = QLModels[clusterLabel].nextNSteps(0, 9)\n",
    "    output_trainset.append(recommendedItems)\n",
    "\n"
   ]
  },
  {
   "cell_type": "code",
   "execution_count": 53,
   "metadata": {},
   "outputs": [
    {
     "name": "stdout",
     "output_type": "stream",
     "text": [
      "2027136014\n"
     ]
    }
   ],
   "source": [
    "# from Metrics import *\n",
    "# from DataPrep import getItemPrice\n",
    "exposedItems, purchaseLabel = getExposedItemsTrainSet()\n",
    "itemPrice = getItemPrice()\n",
    "metrics = Metrics(exposedItems, purchaseLabel, itemPrice)\n",
    "score = metrics.calculate_metrics1(exposedItems)\n",
    "print(score) # max score possible"
   ]
  },
  {
   "cell_type": "code",
   "execution_count": null,
   "metadata": {},
   "outputs": [],
   "source": [
    "# average item price = 2098\n",
    "print(sum(itemPrice)/len(itemPrice))"
   ]
  },
  {
   "cell_type": "code",
   "execution_count": 54,
   "metadata": {},
   "outputs": [
    {
     "name": "stdout",
     "output_type": "stream",
     "text": [
      "[1, 1, 1, 1, 1, 1, 1, 1, 1]\n",
      "[1, 20, 28, 99, 86, 119, 213, 237, 164]\n",
      "[1, 20, 28, 99, 86, 119, 213, 237, 164]\n",
      "[1, 1, 1, 1, 1, 1, 1, 1, 0]\n",
      "[1, 4, 26, 112, 86, 117, 191, 234, 172]\n",
      "[1, 4, 26, 112, 86, 117, 191, 234]\n",
      "[1, 1, 1, 0, 1, 0, 0, 0, 0]\n",
      "[22, 4, 28, 48, 105, 42, 193, 236, 159]\n",
      "[22, 4, 28, 105]\n",
      "[1, 1, 1, 1, 1, 1, 1, 1, 0]\n",
      "[5, 16, 1, 74, 133, 122, 235, 218, 172]\n",
      "[5, 16, 1, 74, 133, 122, 235, 218]\n",
      "2027136014\n"
     ]
    }
   ],
   "source": [
    "# calculate maximum rewards in Train Set\n",
    "MaxRewards = 0\n",
    "for i in range(len(exposedItems)):\n",
    "# loop through samples\n",
    "    items = exposedItems[i]\n",
    "    labels = purchaseLabel[i]\n",
    "    purchases = [items[k] for k in range(9) if labels[k]==1]\n",
    "    if i <4:\n",
    "        print(labels)\n",
    "        print(items)\n",
    "        print(purchases)\n",
    "    for j in purchases:\n",
    "        MaxRewards = MaxRewards + itemPrice[j-1]\n",
    "\n",
    "print(MaxRewards)"
   ]
  },
  {
   "cell_type": "code",
   "execution_count": 52,
   "metadata": {},
   "outputs": [],
   "source": []
  }
 ],
 "metadata": {
  "kernelspec": {
   "display_name": "Python 3",
   "language": "python",
   "name": "python3"
  },
  "language_info": {
   "codemirror_mode": {
    "name": "ipython",
    "version": 3
   },
   "file_extension": ".py",
   "mimetype": "text/x-python",
   "name": "python",
   "nbconvert_exporter": "python",
   "pygments_lexer": "ipython3",
   "version": "3.6.9"
  }
 },
 "nbformat": 4,
 "nbformat_minor": 4
}
