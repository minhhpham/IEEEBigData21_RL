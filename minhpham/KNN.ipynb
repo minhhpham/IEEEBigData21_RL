{
 "cells": [
  {
   "cell_type": "code",
   "execution_count": 2,
   "metadata": {},
   "outputs": [],
   "source": [
    "################################################################\n",
    "# Exploring Collaborative Filtering based on KNN\n",
    "################################################################\n",
    "# 1. Use User data with clicked items and user_portraits\n",
    "# 2. train KNN algorithm\n",
    "# 3. for a test observaion, find K nearest neighbors\n",
    "# 4. find the most common items from the neighbors to recommend\n",
    "# 4. Use cross-validation to calibrate K"
   ]
  },
  {
   "cell_type": "code",
   "execution_count": 3,
   "metadata": {},
   "outputs": [
    {
     "name": "stdout",
     "output_type": "stream",
     "text": [
      "[1, 2, 3, 4, 5, 6, 7, 8, 9, 10]\n"
     ]
    }
   ],
   "source": [
    "import pandas as pd\n",
    "from sklearn.neighbors import NearestNeighbors\n",
    "from DataPrep import getUserFeaturesTrainSet, getPurchasedItemsTrainSet, getUserFeaturesTestSet\n",
    "TrainSet = getUserFeaturesTrainSet()\n",
    "PurchasedItems = getPurchasedItemsTrainSet()\n",
    "\n",
    "class KNNModel:\n",
    "    def __init__(self, TrainData, purchaseData, K_neighbors):\n",
    "        \"\"\"\n",
    "        train KNN model on TrainData\n",
    "        purchaseData: list of length len(TrainData), each element is a list of purchased itemID\n",
    "        K_neighbors: KNN parameter\n",
    "        \"\"\"\n",
    "        self.model = NearestNeighbors(n_neighbors = K_neighbors)\n",
    "        self.model.fit(TrainData)\n",
    "        self.purchaseData = purchaseData\n",
    "        self.K_neighbors = K_neighbors\n",
    "    def predict(self, newPoint):\n",
    "        \"\"\"\n",
    "        newPoint should have the same columns as TrainData, any number of row\n",
    "        first find the nearest neighbors\n",
    "        then count the frequency of their purchased items\n",
    "        return: list with length = nrow of newPoint\n",
    "            each element of list is a list of length 9\n",
    "        \"\"\"\n",
    "        neighborDist, neighborIDs = self.model.kneighbors(newPoint)\n",
    "        output = []\n",
    "        # calculate score of purchased items with dictionary\n",
    "        itemScore = {}\n",
    "        for rowID in range(len(neighborIDs)):\n",
    "            for i in range(self.K_neighbors):\n",
    "                uID = neighborIDs[rowID][i]\n",
    "                dist = neighborDist[rowID][i]\n",
    "                if dist==0:\n",
    "                    dist = 1e-7\n",
    "                itemList = self.purchaseData[uID]\n",
    "                for itemID in itemList:\n",
    "                    if itemID not in itemScore.keys():\n",
    "                        itemScore[itemID] = 1/dist\n",
    "                    else:\n",
    "                        itemScore[itemID] = itemScore[itemID] + 1/dist\n",
    "            # find 9 items with highest frequency\n",
    "            # first sort the dict by decreasing value\n",
    "            sortedDict = {k: v for k, v in sorted(itemScore.items(), key=lambda item: item[1], reverse = True)}\n",
    "            finalItems = list(sortedDict.keys())[:9]\n",
    "            output.append(finalItems)\n",
    "        return output\n",
    "    \n",
    "# main \n",
    "model = KNNModel(TrainSet, PurchasedItems, 50)\n",
    "# get test set\n",
    "userIDs, TestSet = getUserFeaturesTestSet()\n",
    "# make prediction\n",
    "recommendedItems = model.predict(TestSet)\n",
    "# format data according to submission format and write to file\n",
    "outFile = '/tf/shared/track2_output.csv'\n",
    "f = open(outFile, \"w\")\n",
    "f.write('id,itemids')\n",
    "for i in range(len(userIDs)):\n",
    "    f.write('\\n')\n",
    "    itemList = recommendedItems[i]\n",
    "    itemString = ' '.join([str(j) for j in itemList])\n",
    "    outString = str(userIDs[i]) + ',' + itemString\n",
    "    f.write(outString)\n"
   ]
  }
 ],
 "metadata": {
  "kernelspec": {
   "display_name": "Python 3",
   "language": "python",
   "name": "python3"
  },
  "language_info": {
   "codemirror_mode": {
    "name": "ipython",
    "version": 3
   },
   "file_extension": ".py",
   "mimetype": "text/x-python",
   "name": "python",
   "nbconvert_exporter": "python",
   "pygments_lexer": "ipython3",
   "version": "3.6.9"
  }
 },
 "nbformat": 4,
 "nbformat_minor": 4
}
