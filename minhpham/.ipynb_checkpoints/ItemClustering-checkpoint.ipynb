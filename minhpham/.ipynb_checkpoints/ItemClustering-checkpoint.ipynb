{
 "cells": [
  {
   "cell_type": "code",
   "execution_count": null,
   "metadata": {},
   "outputs": [],
   "source": []
  },
  {
   "cell_type": "code",
   "execution_count": 1,
   "metadata": {},
   "outputs": [],
   "source": [
    "import pandas as pd\n",
    "import numpy as np\n",
    "itemInfo = pd.read_csv('/tf/shared/item_info.csv', ' ')\n",
    "itemInfo = itemInfo.sort_values(by = 'item_id')\n",
    "\n",
    "# parse item_vec into 2D array\n",
    "itemVecs = []\n",
    "for i in range(itemInfo.shape[0]):\n",
    "    item_vec = itemInfo.item_vec[i]\n",
    "    item_vec = [float(x) for x in item_vec.split(',')]\n",
    "    itemVecs.append(item_vec)\n",
    "\n",
    "itemVecs = np.array(itemVecs)\n"
   ]
  },
  {
   "cell_type": "code",
   "execution_count": 2,
   "metadata": {},
   "outputs": [],
   "source": [
    "# normalize all columns\n",
    "from sklearn.preprocessing import normalize\n",
    "itemVecs = normalize(itemVecs, axis = 0)"
   ]
  },
  {
   "cell_type": "code",
   "execution_count": 19,
   "metadata": {},
   "outputs": [
    {
     "data": {
      "image/png": "[encoded data removed]",
      "text/plain": [
       "<Figure size 720x504 with 1 Axes>"
      ]
     },
     "metadata": {
      "needs_background": "light"
     },
     "output_type": "display_data"
    }
   ],
   "source": [
    "############# CLUSTERING #############################\n",
    "# hierachical clustering\n",
    "## draw dendrogram\n",
    "from scipy.cluster.hierarchy import dendrogram, linkage\n",
    "from matplotlib import pyplot as plt\n",
    "\n",
    "distance = linkage(itemVecs)\n",
    "plt.figure(figsize=(10, 7))\n",
    "dendrogram(distance,\n",
    "            orientation='top')\n",
    "plt.show()\n",
    "# this dendrogram not very useful"
   ]
  },
  {
   "cell_type": "code",
   "execution_count": 22,
   "metadata": {},
   "outputs": [
    {
     "data": {
      "text/plain": [
       "[<matplotlib.lines.Line2D at 0x7fa61004f320>]"
      ]
     },
     "execution_count": 22,
     "metadata": {},
     "output_type": "execute_result"
    },
    {
     "data": {
      "image/png": "[encoded data removed]",
      "text/plain": [
       "<Figure size 432x288 with 1 Axes>"
      ]
     },
     "metadata": {
      "needs_background": "light"
     },
     "output_type": "display_data"
    }
   ],
   "source": [
    "###################### Now try DBSCAN #########################\n",
    "MIN_PTS = 4 # minimum number of members to form a cluster\n",
    "from sklearn.neighbors import NearestNeighbors\n",
    "\n",
    "# plot the elbow curve\n",
    "# Calculate the average distance between each point in the data set and its MIN_PTS nearest neighbors\n",
    "neighbors = NearestNeighbors(n_neighbors=MIN_PTS)\n",
    "neighbors_fit = neighbors.fit(itemVecs)\n",
    "distances, _ = neighbors_fit.kneighbors(itemVecs)\n",
    "distances = np.sort(distances, axis=0)\n",
    "distances = distances[:,1]\n",
    "plt.plot(distances)\n"
   ]
  },
  {
   "cell_type": "code",
   "execution_count": 3,
   "metadata": {},
   "outputs": [],
   "source": [
    "# so we pick eps = 0.02\n",
    "EPS = 0.02\n",
    "from sklearn.cluster import DBSCAN\n",
    "dbscan = DBSCAN(eps = EPS, min_samples = 1)\n",
    "dbscan.fit(itemVecs)\n",
    "itemClusterLabels = dbscan.labels_"
   ]
  },
  {
   "cell_type": "code",
   "execution_count": 4,
   "metadata": {},
   "outputs": [
    {
     "name": "stdout",
     "output_type": "stream",
     "text": [
      "24 : 131\n",
      "11 : 49\n",
      "0  : 42\n",
      "3  : 41\n",
      "10 : 39\n",
      "1  : 13\n",
      "13 : 11\n",
      "9  : 8\n",
      "5  : 5\n",
      "26 : 4\n",
      "31 : 3\n",
      "27 : 2\n",
      "25 : 2\n",
      "12 : 2\n",
      "32 : 2\n",
      "22 : 2\n",
      "6  : 2\n",
      "20 : 2\n",
      "30 : 2\n",
      "15 : 2\n",
      "7  : 1\n",
      "8  : 1\n",
      "4  : 1\n",
      "2  : 1\n",
      "36 : 1\n",
      "14 : 1\n",
      "16 : 1\n",
      "17 : 1\n",
      "35 : 1\n",
      "19 : 1\n",
      "21 : 1\n",
      "23 : 1\n",
      "28 : 1\n",
      "29 : 1\n",
      "33 : 1\n",
      "34 : 1\n",
      "18 : 1\n"
     ]
    }
   ],
   "source": [
    "# print frequency table\n",
    "import pandas as pd\n",
    "import sys\n",
    "tmp = pd.Series(itemClusterLabels)\n",
    "FreqTable = tmp.value_counts()\n",
    "FreqLabels = FreqTable.keys().tolist()\n",
    "FreqCounts = FreqTable.tolist()\n",
    "for i in range(len(FreqLabels)):\n",
    "    print(\"{0:<3}: {1}\".format(FreqLabels[i], FreqCounts[i]))"
   ]
  },
  {
   "cell_type": "code",
   "execution_count": 10,
   "metadata": {},
   "outputs": [
    {
     "name": "stderr",
     "output_type": "stream",
     "text": [
      "100%|██████████| 260087/260087 [00:11<00:00, 21802.13it/s]\n",
      "  2%|▏         | 5135/260087 [00:00<00:04, 51340.50it/s]"
     ]
    },
    {
     "name": "stdout",
     "output_type": "stream",
     "text": [
      "probability of same cluster purchased together = 0.5721301099823255\n"
     ]
    },
    {
     "name": "stderr",
     "output_type": "stream",
     "text": [
      "100%|██████████| 260087/260087 [00:04<00:00, 53496.47it/s]"
     ]
    },
    {
     "name": "stdout",
     "output_type": "stream",
     "text": [
      "probability of purchased together = 0.49406698527800313\n"
     ]
    },
    {
     "name": "stderr",
     "output_type": "stream",
     "text": [
      "\n"
     ]
    }
   ],
   "source": [
    "########## Cluster Analysis ##################\n",
    "# calculate the probability that 2 items are purchased together given that they are in the same cluster\n",
    "from DataPrep import getExposedItemsTrainSet\n",
    "from tqdm import tqdm\n",
    "recItems, purLabels = getExposedItemsTrainSet()\n",
    "\n",
    "countSameCluster = 0    # denominator, count number of 2 items in the same cluster\n",
    "countPurchaseAll = 0    # numerator, count number of 2 items purchased together and in same cluster\n",
    "\n",
    "for i in tqdm(range(len(recItems))):\n",
    "    Items = recItems[i]\n",
    "    purch = purLabels[i]\n",
    "    for j in range(9):\n",
    "        for k in range(j, 9):\n",
    "            if itemClusterLabels[Items[j]-1] == itemClusterLabels[Items[k]-1]:\n",
    "                countSameCluster = countSameCluster + 1\n",
    "                if purch[j]==1 and purch[k]==1:\n",
    "                    countPurchaseAll = countPurchaseAll + 1\n",
    "\n",
    "print('probability of same cluster purchased together = ' + str(countPurchaseAll/countSameCluster))\n",
    "\n",
    "# probability that any 2 items are purchased together\n",
    "countPurchaseAll = 0\n",
    "countAll = 0 # all combinations of 2 items\n",
    "for i in tqdm(range(len(recItems))):\n",
    "    Items = recItems[i]\n",
    "    purch = purLabels[i]\n",
    "    for j in range(9):\n",
    "        for k in range(j, 9):\n",
    "            countAll = countAll + 1\n",
    "            if purch[j]==1 and purch[k]==1:\n",
    "                countPurchaseAll = countPurchaseAll + 1\n",
    "\n",
    "print('probability of purchased together = ' + str(countPurchaseAll/countAll))\n",
    "\n"
   ]
  },
  {
   "cell_type": "code",
   "execution_count": 17,
   "metadata": {},
   "outputs": [
    {
     "name": "stderr",
     "output_type": "stream",
     "text": [
      "100%|██████████| 260087/260087 [00:54<00:00, 4738.76it/s]\n",
      "  0%|          | 1181/260087 [00:00<00:21, 11799.66it/s]"
     ]
    },
    {
     "name": "stdout",
     "output_type": "stream",
     "text": [
      "probability of same cluster purchased together = 0.5581379539397637\n"
     ]
    },
    {
     "name": "stderr",
     "output_type": "stream",
     "text": [
      "100%|██████████| 260087/260087 [00:21<00:00, 12227.07it/s]"
     ]
    },
    {
     "name": "stdout",
     "output_type": "stream",
     "text": [
      "probability of purchased together = 0.43766679005195347\n"
     ]
    },
    {
     "name": "stderr",
     "output_type": "stream",
     "text": [
      "\n"
     ]
    }
   ],
   "source": [
    "# calculate the probability that 3 items are purchased together given that they are in the same cluster\n",
    "from DataPrep import getExposedItemsTrainSet\n",
    "from tqdm import tqdm\n",
    "recItems, purLabels = getExposedItemsTrainSet()\n",
    "\n",
    "countSameCluster = 0    # denominator, count number of 3 items in the same cluster\n",
    "countPurchaseAll = 0    # numerator, count number of 3 items purchased together and in same cluster\n",
    "\n",
    "for i in tqdm(range(len(recItems))):\n",
    "    Items = recItems[i]\n",
    "    purch = purLabels[i]\n",
    "    for j in range(9):\n",
    "        for k in range(j, 9):\n",
    "            for t in range(k, 9):\n",
    "                if itemClusterLabels[Items[j]-1] == itemClusterLabels[Items[k]-1] and itemClusterLabels[Items[k]-1] == itemClusterLabels[Items[t]-1]:\n",
    "                    countSameCluster = countSameCluster + 1\n",
    "                    if purch[j]==1 and purch[k]==1 and purch[t]==1:\n",
    "                        countPurchaseAll = countPurchaseAll + 1\n",
    "\n",
    "print('probability of same cluster purchased together = ' + str(countPurchaseAll/countSameCluster))\n",
    "\n",
    "# probability that any 3 items are purchased together\n",
    "countPurchaseAll = 0\n",
    "countAll = 0 # all combinations of 3 items\n",
    "for i in tqdm(range(len(recItems))):\n",
    "    Items = recItems[i]\n",
    "    purch = purLabels[i]\n",
    "    for j in range(9):\n",
    "        for k in range(j, 9):\n",
    "            for t in range(k, 9):\n",
    "                countAll = countAll + 1\n",
    "                if purch[j]==1 and purch[k]==1 and purch[t]==1:\n",
    "                    countPurchaseAll = countPurchaseAll + 1\n",
    "\n",
    "print('probability of purchased together = ' + str(countPurchaseAll/countAll))\n",
    "\n"
   ]
  },
  {
   "cell_type": "code",
   "execution_count": 16,
   "metadata": {},
   "outputs": [
    {
     "name": "stderr",
     "output_type": "stream",
     "text": [
      "100%|██████████| 260087/260087 [07:19<00:00, 591.93it/s]\n",
      "  2%|▏         | 5100/260087 [00:00<00:05, 50992.39it/s]"
     ]
    },
    {
     "name": "stdout",
     "output_type": "stream",
     "text": [
      "probability of same location purchased together = 0.5556424922771568\n"
     ]
    },
    {
     "name": "stderr",
     "output_type": "stream",
     "text": [
      "100%|██████████| 260087/260087 [00:04<00:00, 52252.01it/s]"
     ]
    },
    {
     "name": "stdout",
     "output_type": "stream",
     "text": [
      "probability of purchased together = 0.49406698527800313\n"
     ]
    },
    {
     "name": "stderr",
     "output_type": "stream",
     "text": [
      "\n"
     ]
    }
   ],
   "source": [
    "########## Location Analysis ##################\n",
    "# calculate the probability that 2 items are purchased together given that they are in the same location\n",
    "from DataPrep import getExposedItemsTrainSet\n",
    "from tqdm import tqdm\n",
    "recItems, purLabels = getExposedItemsTrainSet()\n",
    "\n",
    "countSameCluster = 0    # denominator, count number of 2 items in the same location\n",
    "countPurchaseAll = 0    # numerator, count number of 2 items purchased together and in same location\n",
    "\n",
    "itemsLocation = itemInfo.location\n",
    "for i in tqdm(range(len(recItems))):\n",
    "    Items = recItems[i]\n",
    "    purch = purLabels[i]\n",
    "    for j in range(9):\n",
    "        for k in range(j, 9):\n",
    "            if itemsLocation[Items[j]-1] == itemsLocation[Items[k]-1]:\n",
    "                countSameCluster = countSameCluster + 1\n",
    "                if purch[j]==1 and purch[k]==1:\n",
    "                    countPurchaseAll = countPurchaseAll + 1\n",
    "\n",
    "print('probability of same location purchased together = ' + str(countPurchaseAll/countSameCluster))\n",
    "\n",
    "# probability that any 2 items are purchased together\n",
    "countPurchaseAll = 0\n",
    "countAll = 0 # all combinations of 2 items\n",
    "for i in tqdm(range(len(recItems))):\n",
    "    Items = recItems[i]\n",
    "    purch = purLabels[i]\n",
    "    for j in range(9):\n",
    "        for k in range(j, 9):\n",
    "            countAll = countAll + 1\n",
    "            if purch[j]==1 and purch[k]==1:\n",
    "                countPurchaseAll = countPurchaseAll + 1\n",
    "\n",
    "print('probability of purchased together = ' + str(countPurchaseAll/countAll))\n"
   ]
  },
  {
   "cell_type": "code",
   "execution_count": 18,
   "metadata": {},
   "outputs": [
    {
     "name": "stderr",
     "output_type": "stream",
     "text": [
      "  0%|          | 0/260087 [00:00<?, ?it/s]\n"
     ]
    },
    {
     "ename": "NameError",
     "evalue": "name 'itemsLocation' is not defined",
     "output_type": "error",
     "traceback": [
      "\u001b[0;31m\u001b[0m",
      "\u001b[0;31mNameError\u001b[0mTraceback (most recent call last)",
      "\u001b[0;32m<ipython-input-18-db10310cc362>\u001b[0m in \u001b[0;36m<module>\u001b[0;34m\u001b[0m\n\u001b[1;32m     13\u001b[0m         \u001b[0;32mfor\u001b[0m \u001b[0mk\u001b[0m \u001b[0;32min\u001b[0m \u001b[0mrange\u001b[0m\u001b[0;34m(\u001b[0m\u001b[0mj\u001b[0m\u001b[0;34m,\u001b[0m \u001b[0;36m9\u001b[0m\u001b[0;34m)\u001b[0m\u001b[0;34m:\u001b[0m\u001b[0;34m\u001b[0m\u001b[0;34m\u001b[0m\u001b[0m\n\u001b[1;32m     14\u001b[0m             \u001b[0;32mfor\u001b[0m \u001b[0mt\u001b[0m \u001b[0;32min\u001b[0m \u001b[0mrange\u001b[0m\u001b[0;34m(\u001b[0m\u001b[0mk\u001b[0m\u001b[0;34m,\u001b[0m \u001b[0;36m9\u001b[0m\u001b[0;34m)\u001b[0m\u001b[0;34m:\u001b[0m\u001b[0;34m\u001b[0m\u001b[0;34m\u001b[0m\u001b[0m\n\u001b[0;32m---> 15\u001b[0;31m                 \u001b[0;32mif\u001b[0m \u001b[0mitemsLocation\u001b[0m\u001b[0;34m[\u001b[0m\u001b[0mItems\u001b[0m\u001b[0;34m[\u001b[0m\u001b[0mj\u001b[0m\u001b[0;34m]\u001b[0m\u001b[0;34m-\u001b[0m\u001b[0;36m1\u001b[0m\u001b[0;34m]\u001b[0m \u001b[0;34m==\u001b[0m \u001b[0mitemsLocation\u001b[0m\u001b[0;34m[\u001b[0m\u001b[0mItems\u001b[0m\u001b[0;34m[\u001b[0m\u001b[0mk\u001b[0m\u001b[0;34m]\u001b[0m\u001b[0;34m-\u001b[0m\u001b[0;36m1\u001b[0m\u001b[0;34m]\u001b[0m \u001b[0;32mand\u001b[0m \u001b[0mitemsLocation\u001b[0m\u001b[0;34m[\u001b[0m\u001b[0mItems\u001b[0m\u001b[0;34m[\u001b[0m\u001b[0mk\u001b[0m\u001b[0;34m]\u001b[0m\u001b[0;34m-\u001b[0m\u001b[0;36m1\u001b[0m\u001b[0;34m]\u001b[0m \u001b[0;34m==\u001b[0m \u001b[0mitemsLocation\u001b[0m\u001b[0;34m[\u001b[0m\u001b[0mItems\u001b[0m\u001b[0;34m[\u001b[0m\u001b[0mt\u001b[0m\u001b[0;34m]\u001b[0m\u001b[0;34m-\u001b[0m\u001b[0;36m1\u001b[0m\u001b[0;34m]\u001b[0m\u001b[0;34m:\u001b[0m\u001b[0;34m\u001b[0m\u001b[0;34m\u001b[0m\u001b[0m\n\u001b[0m\u001b[1;32m     16\u001b[0m                     \u001b[0mcountSameCluster\u001b[0m \u001b[0;34m=\u001b[0m \u001b[0mcountSameCluster\u001b[0m \u001b[0;34m+\u001b[0m \u001b[0;36m1\u001b[0m\u001b[0;34m\u001b[0m\u001b[0;34m\u001b[0m\u001b[0m\n\u001b[1;32m     17\u001b[0m                     \u001b[0;32mif\u001b[0m \u001b[0mpurch\u001b[0m\u001b[0;34m[\u001b[0m\u001b[0mj\u001b[0m\u001b[0;34m]\u001b[0m\u001b[0;34m==\u001b[0m\u001b[0;36m1\u001b[0m \u001b[0;32mand\u001b[0m \u001b[0mpurch\u001b[0m\u001b[0;34m[\u001b[0m\u001b[0mk\u001b[0m\u001b[0;34m]\u001b[0m\u001b[0;34m==\u001b[0m\u001b[0;36m1\u001b[0m \u001b[0;32mand\u001b[0m \u001b[0mpurch\u001b[0m\u001b[0;34m[\u001b[0m\u001b[0mt\u001b[0m\u001b[0;34m]\u001b[0m\u001b[0;34m==\u001b[0m\u001b[0;36m1\u001b[0m\u001b[0;34m:\u001b[0m\u001b[0;34m\u001b[0m\u001b[0;34m\u001b[0m\u001b[0m\n",
      "\u001b[0;31mNameError\u001b[0m: name 'itemsLocation' is not defined"
     ]
    }
   ],
   "source": [
    "# calculate the probability that 3 items are purchased together given that they are in the same cluster\n",
    "from DataPrep import getExposedItemsTrainSet\n",
    "from tqdm import tqdm\n",
    "recItems, purLabels = getExposedItemsTrainSet()\n",
    "\n",
    "countSameCluster = 0    # denominator, count number of 3 items in the same cluster\n",
    "countPurchaseAll = 0    # numerator, count number of 3 items purchased together and in same cluster\n",
    "\n",
    "itemsLocation = itemInfo.location\n",
    "for i in tqdm(range(len(recItems))):\n",
    "    Items = recItems[i]\n",
    "    purch = purLabels[i]\n",
    "    for j in range(9):\n",
    "        for k in range(j, 9):\n",
    "            for t in range(k, 9):\n",
    "                if itemsLocation[Items[j]-1] == itemsLocation[Items[k]-1] and itemsLocation[Items[k]-1] == itemsLocation[Items[t]-1]:\n",
    "                    countSameCluster = countSameCluster + 1\n",
    "                    if purch[j]==1 and purch[k]==1 and purch[t]==1:\n",
    "                        countPurchaseAll = countPurchaseAll + 1\n",
    "\n",
    "print('probability of same cluster purchased together = ' + str(countPurchaseAll/countSameCluster))\n",
    "\n",
    "# probability that any 3 items are purchased together\n",
    "countPurchaseAll = 0\n",
    "countAll = 0 # all combinations of 3 items\n",
    "for i in tqdm(range(len(recItems))):\n",
    "    Items = recItems[i]\n",
    "    purch = purLabels[i]\n",
    "    for j in range(9):\n",
    "        for k in range(j, 9):\n",
    "            for t in range(k, 9):\n",
    "                countAll = countAll + 1\n",
    "                if purch[j]==1 and purch[k]==1 and purch[t]==1:\n",
    "                    countPurchaseAll = countPurchaseAll + 1\n",
    "\n",
    "print('probability of purchased together = ' + str(countPurchaseAll/countAll))\n",
    "\n"
   ]
  }
 ],
 "metadata": {
  "kernelspec": {
   "display_name": "Python 3",
   "language": "python",
   "name": "python3"
  },
  "language_info": {
   "codemirror_mode": {
    "name": "ipython",
    "version": 3
   },
   "file_extension": ".py",
   "mimetype": "text/x-python",
   "name": "python",
   "nbconvert_exporter": "python",
   "pygments_lexer": "ipython3",
   "version": "3.6.9"
  }
 },
 "nbformat": 4,
 "nbformat_minor": 4
}
