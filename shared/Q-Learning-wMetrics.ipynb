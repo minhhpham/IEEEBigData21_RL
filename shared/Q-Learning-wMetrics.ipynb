{
 "cells": [
  {
   "cell_type": "code",
   "execution_count": null,
   "metadata": {},
   "outputs": [],
   "source": [
    "##########################################################\n",
    "# 1. split train data into training set and test set\n",
    "# 2. train Q-Tables on Training set\n",
    "# 3. make suggestions for test set\n",
    "# 4. Calculate Metrics 1 for our suggestions\n",
    "#########################################################"
   ]
  },
  {
   "cell_type": "code",
   "execution_count": 3,
   "metadata": {},
   "outputs": [
    {
     "name": "stdout",
     "output_type": "stream",
     "text": [
      "Number of Multiprocessing threads: 31\n"
     ]
    }
   ],
   "source": [
    "# 1. Split Train \n",
    "from DataPrep import *\n",
    "userFeaturesTrain, recItemsTrain, purchaseLabelTrain, userFeaturesTest, recItemsTest, purchaseLabelTest = splitTrainSet()"
   ]
  },
  {
   "cell_type": "code",
   "execution_count": 5,
   "metadata": {},
   "outputs": [
    {
     "name": "stderr",
     "output_type": "stream",
     "text": [
      "100%|██████████| 208069/208069 [01:24<00:00, 2465.20it/s]\n"
     ]
    }
   ],
   "source": [
    "# 2.\n",
    "import numpy as np\n",
    "from tqdm import tqdm\n",
    "import os\n",
    "os.chdir('/tf/shared')\n",
    "from classes.QLearning import *\n",
    "N_ITEMS = 381\n",
    "\n",
    "# predict user cluster label for users in the training set\n",
    "NCLUSTERS = 50\n",
    "ClusterModel, clusterLabels = getClusterLabels()\n",
    "clusterLabelTrain  = ClusterModel.predict(userFeaturesTrain)\n",
    "# load item price\n",
    "itemInfo = pd.read_csv('/tf/shared/item_info.csv', ' ')\n",
    "itemInfo = itemInfo.sort_values(by = 'item_id')\n",
    "itemPrice = itemInfo.price\n",
    "# train Q tables \n",
    "QLModels = []\n",
    "for i in range(NCLUSTERS):\n",
    "    QLModels.append(QLearning(n_states = N_ITEMS+1, n_actions = N_ITEMS+1))\n",
    "\n",
    "# to train Q tables: \n",
    "#### state: the last item recommended to users, 0 if game just started, otherwise = itemID\n",
    "#### action: the next item to recommend\n",
    "#### reward: (item is purchased) * price\n",
    "#### to feed a set of (state, action, reward) to a Q table\n",
    "for i in tqdm(range(len(recItemsTrain))):\n",
    "# loop thru samples\n",
    "    recItems = recItemsTrain[i]\n",
    "    purLabel = purchaseLabelTrain[i]\n",
    "    for j, item in enumerate(recItems):\n",
    "        if j>2 and purLabel[0]*purLabel[1]*purLabel[2]==0:\n",
    "            # don't train if game stopped\n",
    "            break\n",
    "        if j>5 and purLabel[3]*purLabel[4]*purLabel[5]==0:\n",
    "            # don't train if game stopped\n",
    "            break\n",
    "        # calculate state:\n",
    "        if j==0:\n",
    "            state = 0\n",
    "        else:\n",
    "            state = recItems[j-1]\n",
    "        # calculate action:\n",
    "        action = item\n",
    "        # calculate rewards, note: itemPrice is an array, itemID from raw data is 1-based index\n",
    "        reward = itemPrice[item-1] * purLabel[j]\n",
    "        train_data = np.array([(state, action, reward)])\n",
    "        # predict user cluster label of this sample based on user features\n",
    "        clusterID = clusterLabelTrain[i]\n",
    "        QLModels[clusterID].train(train_data)\n"
   ]
  },
  {
   "cell_type": "code",
   "execution_count": 6,
   "metadata": {},
   "outputs": [
    {
     "name": "stderr",
     "output_type": "stream",
     "text": [
      "100%|██████████| 52018/52018 [00:46<00:00, 1109.56it/s]\n"
     ]
    }
   ],
   "source": [
    "# 3. make suggestion for test set\n",
    "# predict user cluster label for users in the test set\n",
    "clusterLabelTest  = ClusterModel.predict(userFeaturesTest)\n",
    "\n",
    "# make suggestion for each test sample\n",
    "items_out = []\n",
    "for cluster in tqdm(clusterLabelTest):\n",
    "# clusterLabelTest is array of labels of users in test set\n",
    "    model = QLModels[cluster]\n",
    "    items_out.append(model.nextNSteps(0, 9))"
   ]
  },
  {
   "cell_type": "code",
   "execution_count": 11,
   "metadata": {},
   "outputs": [
    {
     "name": "stdout",
     "output_type": "stream",
     "text": [
      "65694232\n",
      "158433981612\n",
      "percentage of max score: 0.00041464735867639287\n"
     ]
    }
   ],
   "source": [
    "# 4. calculate metrics\n",
    "from classes.Metrics import *\n",
    "metrics = Metrics(recItemsTest, purchaseLabelTest)\n",
    "score = metrics.calculate_metrics2(items_out, w3 = 1000)\n",
    "print(score) # max score possible\n",
    "# calculate metrics of test set (max score possible by ground truth)\n",
    "score_max = metrics.calculate_metrics2(recItemsTest, w3 = 1000)\n",
    "print(score_max) # max score possible\n",
    "print('percentage of max score: ' + str(score/score_max))"
   ]
  },
  {
   "cell_type": "code",
   "execution_count": null,
   "metadata": {},
   "outputs": [],
   "source": []
  }
 ],
 "metadata": {
  "kernelspec": {
   "display_name": "Python 3",
   "language": "python",
   "name": "python3"
  },
  "language_info": {
   "codemirror_mode": {
    "name": "ipython",
    "version": 3
   },
   "file_extension": ".py",
   "mimetype": "text/x-python",
   "name": "python",
   "nbconvert_exporter": "python",
   "pygments_lexer": "ipython3",
   "version": "3.8.8"
  }
 },
 "nbformat": 4,
 "nbformat_minor": 4
}
