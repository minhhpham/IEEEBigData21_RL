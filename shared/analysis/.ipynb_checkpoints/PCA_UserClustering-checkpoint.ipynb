{
 "cells": [
  {
   "cell_type": "code",
   "execution_count": null,
   "id": "3fc00200-5533-4f74-a749-00f41975d8a1",
   "metadata": {},
   "outputs": [],
   "source": []
  },
  {
   "cell_type": "code",
   "execution_count": 4,
   "id": "b20cbcdd-995f-461f-b9e4-8f7d811798bd",
   "metadata": {},
   "outputs": [],
   "source": [
    "import os\n",
    "os.chdir('/tf/shared')\n",
    "from tqdm import tqdm"
   ]
  },
  {
   "cell_type": "code",
   "execution_count": 5,
   "id": "464c5a81-3f19-42b4-bf32-343083bf5dad",
   "metadata": {},
   "outputs": [],
   "source": [
    "# get user features\n",
    "from DataPrep import getUserFeaturesTrainSet\n",
    "userFeatures = getUserFeaturesTrainSet()\n"
   ]
  },
  {
   "cell_type": "code",
   "execution_count": 6,
   "id": "7adcc73e-c3b4-4d7e-8dfe-f4060354a4f8",
   "metadata": {},
   "outputs": [
    {
     "data": {
      "text/plain": [
       "SparsePCA(n_components=60, n_jobs=-1)"
      ]
     },
     "execution_count": 6,
     "metadata": {},
     "output_type": "execute_result"
    }
   ],
   "source": [
    "# sparsePCA to transform\n",
    "from sklearn.decomposition import SparsePCA\n",
    "transformer = SparsePCA(n_components = 60, n_jobs=-1)\n",
    "transformer.fit(userFeatures)"
   ]
  },
  {
   "cell_type": "code",
   "execution_count": 7,
   "id": "6e67262d-df3e-4b1a-95d1-991397a4cc84",
   "metadata": {},
   "outputs": [
    {
     "name": "stdout",
     "output_type": "stream",
     "text": [
      "(260087, 60)\n"
     ]
    }
   ],
   "source": [
    "userFeatures_transformed = transformer.transform(userFeatures)\n",
    "print(userFeatures_transformed.shape)"
   ]
  },
  {
   "cell_type": "code",
   "execution_count": 14,
   "id": "db85d82e-fc64-404a-8e8c-1e9f85043f1a",
   "metadata": {},
   "outputs": [
    {
     "name": "stdout",
     "output_type": "stream",
     "text": [
      "[2246, 3633, 2010, 1852, 2037, 1588, 2435, 3214, 31129, 2820, 2066, 2102, 2307, 1792, 2046, 1999, 2656, 2527, 1872, 1982, 2036, 1867, 1954, 2649, 1607, 2595, 1600, 3785, 1837, 1711, 1923, 1828, 2105, 2830, 1969, 1889, 4202, 2134, 2260, 2100, 1848, 1934, 2075, 3422, 2531, 2415, 5292, 1879, 3111, 1871, 2320, 2040, 2679, 2686, 1874, 2506, 1793, 2185, 1592, 1635, 1996, 2469, 1666, 1466, 1919, 1824, 2195, 2062, 2387, 4965, 4837, 2230, 1848, 3232, 3917, 2028, 1577, 2082, 1837, 1633, 1626, 2910, 1865, 1696, 2358, 1899, 2253, 1898, 5381, 2050, 2121, 1813, 1675, 2648, 1536, 1581, 1909, 2775, 2161, 2880]\n",
      "1466\n",
      "31129\n"
     ]
    }
   ],
   "source": [
    "# Clustering on PCA Data\n",
    "from sklearn.cluster import KMeans\n",
    "km = KMeans(n_clusters = 100)\n",
    "km.fit(userFeatures_transformed)\n",
    "labels = km.predict(usClusterModelres_transformed)\n",
    "counts = [0]*100\n",
    "for l in labels:\n",
    "    counts[l] = counts[l] + 1\n",
    "print(counts)\n",
    "print(min(counts))\n",
    "print(max(counts))"
   ]
  },
  {
   "cell_type": "code",
   "execution_count": 13,
   "id": "30a4f88e-2583-40cb-8e33-24f3adeeee5c",
   "metadata": {},
   "outputs": [],
   "source": [
    "# save the pca+clustering model\n",
    "import pickle\n",
    "with open('/tf/shared/data/PCA_ClusteringModels.pkl', 'wb') as file:\n",
    "    pickle.dump((transformer, km), file, pickle.HIGHEST_PROTOCOL)\n"
   ]
  },
  {
   "cell_type": "code",
   "execution_count": 23,
   "id": "e5c8c759-5bcb-4e54-8c5f-3650cc706370",
   "metadata": {},
   "outputs": [
    {
     "name": "stdout",
     "output_type": "stream",
     "text": [
      "(260087, 390)\n",
      "(260087, 60)\n",
      "[16 52 50 52 67 23 25 72  7 29 48  8 77 90 67 70 29 38 56 31 72 16 97 28\n",
      " 90  9 79 31 67 20 61 78 72 84  0 70 76 16 48 25  8  7 59 31 96  7 38 91\n",
      " 13 95]\n"
     ]
    }
   ],
   "source": [
    "# sanity check on userFeatures\n",
    "import DataPrep\n",
    "PCAModel, ClusterModel = DataPrep.getPCA_Clustering_Models()\n",
    "print(userFeatures.shape)\n",
    "temp = PCAModel.transform(userFeatures)\n",
    "print(temp.shape)\n",
    "temp = ClusterModel.predict(temp)\n",
    "print(temp[:50])\n"
   ]
  },
  {
   "cell_type": "code",
   "execution_count": 18,
   "id": "9018030c-5411-42da-ac72-d4d2fdbbb11b",
   "metadata": {},
   "outputs": [
    {
     "name": "stdout",
     "output_type": "stream",
     "text": [
      "Number of Multiprocessing threads: 31\n"
     ]
    }
   ],
   "source": []
  },
  {
   "cell_type": "code",
   "execution_count": null,
   "id": "148501ef-752f-4806-b179-cdbb1f4b40c2",
   "metadata": {},
   "outputs": [],
   "source": []
  }
 ],
 "metadata": {
  "kernelspec": {
   "display_name": "Python 3",
   "language": "python",
   "name": "python3"
  },
  "language_info": {
   "codemirror_mode": {
    "name": "ipython",
    "version": 3
   },
   "file_extension": ".py",
   "mimetype": "text/x-python",
   "name": "python",
   "nbconvert_exporter": "python",
   "pygments_lexer": "ipython3",
   "version": "3.8.8"
  }
 },
 "nbformat": 4,
 "nbformat_minor": 5
}
