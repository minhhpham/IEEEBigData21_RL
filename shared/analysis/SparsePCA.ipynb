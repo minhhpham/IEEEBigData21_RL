{
 "cells": [
  {
   "cell_type": "code",
   "execution_count": 1,
   "id": "8a836c28-9004-482c-b842-69ea65dd4349",
   "metadata": {},
   "outputs": [],
   "source": [
    "###################################################################################\n",
    "#  SparsePCA to reduce dimension on UserFeatures (user portraits + click history)\n",
    "###################################################################################"
   ]
  },
  {
   "cell_type": "code",
   "execution_count": 1,
   "id": "6fb20abf-08f3-45e1-8b4a-08e58c5b4c07",
   "metadata": {},
   "outputs": [],
   "source": [
    "import os\n",
    "os.chdir('/tf/shared')\n",
    "from tqdm import tqdm"
   ]
  },
  {
   "cell_type": "code",
   "execution_count": 2,
   "id": "17b883c5-2a21-444d-ac94-5774bc4236bd",
   "metadata": {},
   "outputs": [
    {
     "name": "stdout",
     "output_type": "stream",
     "text": [
      "Number of Multiprocessing threads: 31\n"
     ]
    }
   ],
   "source": [
    "# get user features\n",
    "from DataPrep import getUserFeaturesTrainSet\n",
    "userFeatures = getUserFeaturesTrainSet()\n"
   ]
  },
  {
   "cell_type": "code",
   "execution_count": 3,
   "id": "612dfc24-49a0-4185-bc4e-9fce98e602ee",
   "metadata": {},
   "outputs": [
    {
     "data": {
      "text/plain": [
       "SparsePCA(n_components=50, n_jobs=-1)"
      ]
     },
     "execution_count": 3,
     "metadata": {},
     "output_type": "execute_result"
    }
   ],
   "source": [
    "# sparsePCA to transform\n",
    "from sklearn.decomposition import SparsePCA\n",
    "transformer = SparsePCA(n_components = 50, n_jobs=-1)\n",
    "transformer.fit(userFeatures)"
   ]
  },
  {
   "cell_type": "code",
   "execution_count": 4,
   "id": "4ffc288b-0e69-48d0-b9bb-ec553ae00173",
   "metadata": {},
   "outputs": [
    {
     "name": "stdout",
     "output_type": "stream",
     "text": [
      "(260087, 50)\n"
     ]
    }
   ],
   "source": [
    "userFeatures_transformed = transformer.transform(userFeatures)\n",
    "print(userFeatures_transformed.shape)"
   ]
  },
  {
   "cell_type": "code",
   "execution_count": 5,
   "id": "c1a8caed-95c2-4536-a570-0bb0ff089013",
   "metadata": {},
   "outputs": [],
   "source": [
    "# save transformer\n",
    "import pickle\n",
    "with open('/tf/shared/data/SparsePCATransformer50.pkl', 'wb') as file:\n",
    "    pickle.dump(transformer, file, pickle.HIGHEST_PROTOCOL)\n"
   ]
  },
  {
   "cell_type": "code",
   "execution_count": 7,
   "id": "756f2c1b-52f2-489b-a0d8-b71f0894cc50",
   "metadata": {},
   "outputs": [
    {
     "name": "stdout",
     "output_type": "stream",
     "text": [
      "(260087, 50)\n"
     ]
    }
   ],
   "source": [
    "# test\n",
    "from DataPrep import getPCATransformer50\n",
    "testTrans = getPCATransformer50()\n",
    "x = testTrans.transform(userFeatures)\n",
    "print(x.shape)"
   ]
  },
  {
   "cell_type": "code",
   "execution_count": null,
   "id": "905c1391-4f56-493a-a1e2-4ad83f08b093",
   "metadata": {},
   "outputs": [],
   "source": []
  }
 ],
 "metadata": {
  "kernelspec": {
   "display_name": "Python 3",
   "language": "python",
   "name": "python3"
  },
  "language_info": {
   "codemirror_mode": {
    "name": "ipython",
    "version": 3
   },
   "file_extension": ".py",
   "mimetype": "text/x-python",
   "name": "python",
   "nbconvert_exporter": "python",
   "pygments_lexer": "ipython3",
   "version": "3.8.8"
  }
 },
 "nbformat": 4,
 "nbformat_minor": 5
}
