{
 "cells": [
  {
   "cell_type": "code",
   "execution_count": 8,
   "id": "df123f97-6700-4e4b-aa66-6560f6f5df7a",
   "metadata": {},
   "outputs": [],
   "source": [
    "import os\n",
    "os.chdir('/tf/shared')\n",
    "from tqdm import tqdm"
   ]
  },
  {
   "cell_type": "code",
   "execution_count": 2,
   "id": "1d345c81-0dfe-49f4-af9f-534531f3af7f",
   "metadata": {},
   "outputs": [
    {
     "name": "stdout",
     "output_type": "stream",
     "text": [
      "Number of Multiprocessing threads: 31\n"
     ]
    },
    {
     "name": "stderr",
     "output_type": "stream",
     "text": [
      "/tmp/ipykernel_1025488/3715054922.py:2: FutureWarning: In a future version of pandas all arguments of read_csv except for the argument 'filepath_or_buffer' will be keyword-only\n",
      "  recItems, purLabels = getExposedItemsTrainSet()\n"
     ]
    }
   ],
   "source": [
    "from DataPrep import getExposedItemsTrainSet\n",
    "recItems, purLabels = getExposedItemsTrainSet()"
   ]
  },
  {
   "cell_type": "code",
   "execution_count": 16,
   "id": "afc8b23c-dffb-4a5b-ba25-fc68a183327d",
   "metadata": {},
   "outputs": [
    {
     "name": "stderr",
     "output_type": "stream",
     "text": [
      "100% 260087/260087 [00:06<00:00, 42637.24it/s]\n"
     ]
    }
   ],
   "source": [
    "# get click history\n",
    "import pandas as pd\n",
    "rawTrainSet = pd.read_csv('/tf/shared/trainset.csv',' ')\n",
    "clickHistRaw = rawTrainSet.user_click_history\n",
    "clickHist = []\n",
    "for text in tqdm(clickHistRaw):\n",
    "    clickSeries = text.split(',')\n",
    "    clickItems  = [int(x.partition(':')[0]) for x in clickSeries]\n",
    "    clickHist.append(clickItems)"
   ]
  },
  {
   "cell_type": "code",
   "execution_count": 20,
   "id": "f8a91ade-4168-4e4f-90a7-e827c0700b29",
   "metadata": {},
   "outputs": [
    {
     "name": "stdout",
     "output_type": "stream",
     "text": [
      "probability of clicked given recommended: 0.2715463159122396\n"
     ]
    }
   ],
   "source": [
    "##### calculate probability that an item was clicked given it was recommeneded\n",
    "countRec = 0\n",
    "countClickedAndRec = 0\n",
    "\n",
    "for index, sample in enumerate(recItems):\n",
    "# loop thru samples\n",
    "    clickedItems = clickHist[index]\n",
    "    for item in sample:\n",
    "        countRec = countRec + 1\n",
    "        if item in clickedItems:\n",
    "            countClickedAndRec = countClickedAndRec + 1\n",
    "\n",
    "print('probability of clicked given recommended: ' + str(countClickedAndRec/countRec))\n"
   ]
  },
  {
   "cell_type": "code",
   "execution_count": 23,
   "id": "567ddc14-8480-402d-b32d-9c5b05046dd4",
   "metadata": {},
   "outputs": [
    {
     "name": "stdout",
     "output_type": "stream",
     "text": [
      "general probability of purchase: 0.5937675555572643\n"
     ]
    }
   ],
   "source": [
    "##### calculate general probability of purchase ##########\n",
    "countPur = 0\n",
    "countRec = 0\n",
    "for index, sample in enumerate(recItems):\n",
    "# loop thru samples\n",
    "    clickedItems = clickHist[index]\n",
    "    labels = purLabels[index]\n",
    "    countRec = countRec + 9\n",
    "    for j in range(9):\n",
    "        if j>2 and labels[0]*labels[1]*labels[2]==0:\n",
    "            break\n",
    "        if j>5 and labels[3]*labels[4]*labels[5]==0:\n",
    "            break\n",
    "        if labels[j]==1:\n",
    "            countPur = countPur + 1\n",
    "\n",
    "print('general probability of purchase: ' + str(countPur/countRec))\n"
   ]
  },
  {
   "cell_type": "code",
   "execution_count": 26,
   "id": "7872a8df-4d49-4914-8b55-33fa1152d39f",
   "metadata": {},
   "outputs": [
    {
     "name": "stdout",
     "output_type": "stream",
     "text": [
      "count Clicks: 596721\n",
      "count Clicks and Purchases: 548193\n",
      "probability of purchase given clicked: 0.9186755619460351\n"
     ]
    }
   ],
   "source": [
    "##### calculate probability that a recommended item was purchased given it was clicked\n",
    "countClicked = 0\n",
    "countClickedAndPur = 0\n",
    "\n",
    "for index, sample in enumerate(recItems):\n",
    "# loop thru samples\n",
    "    clickedItems = clickHist[index]\n",
    "    labels = purLabels[index]\n",
    "    for j in range(9):\n",
    "        if j>2 and labels[0]*labels[1]*labels[2]==0:\n",
    "            break\n",
    "        if j>5 and labels[3]*labels[4]*labels[5]==0:\n",
    "            break\n",
    "        item = sample[j]\n",
    "        if item in clickedItems:\n",
    "            countClicked = countClicked + 1\n",
    "            if labels[j]==1:\n",
    "                countClickedAndPur = countClickedAndPur + 1\n",
    "\n",
    "print('count Clicks: ' + str(countClicked))\n",
    "print('count Clicks and Purchases: ' + str(countClickedAndPur))\n",
    "print('probability of purchase given clicked: ' + str(countClickedAndPur/countClicked))"
   ]
  }
 ],
 "metadata": {
  "kernelspec": {
   "display_name": "Python 3 (ipykernel)",
   "language": "python",
   "name": "python3"
  },
  "language_info": {
   "codemirror_mode": {
    "name": "ipython",
    "version": 3
   },
   "file_extension": ".py",
   "mimetype": "text/x-python",
   "name": "python",
   "nbconvert_exporter": "python",
   "pygments_lexer": "ipython3",
   "version": "3.8.11"
  }
 },
 "nbformat": 4,
 "nbformat_minor": 5
}
