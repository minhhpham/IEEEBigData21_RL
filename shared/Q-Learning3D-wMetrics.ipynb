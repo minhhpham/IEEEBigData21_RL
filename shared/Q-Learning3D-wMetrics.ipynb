{
 "cells": [
  {
   "cell_type": "code",
   "execution_count": 1,
   "id": "5ddb076b-990b-42e5-92f6-a9a6e419e7ae",
   "metadata": {},
   "outputs": [],
   "source": [
    "##########################################################\n",
    "# Q-learning implementation with 3D Item Sets, game has 3 states 0, 1, 2\n",
    "# 1. split train data into training set and test set\n",
    "# 2. train Q-Tables on Training set\n",
    "# 3. make suggestions for test set\n",
    "# 4. Calculate Metrics 1 for our suggestions\n",
    "# 5. Make prediction for the competition's test set\n",
    "#########################################################"
   ]
  },
  {
   "cell_type": "code",
   "execution_count": 13,
   "id": "9c5eae65-28fb-43a4-a2d7-8b1413d510d2",
   "metadata": {},
   "outputs": [],
   "source": [
    "# 1. Split Train \n",
    "from DataPrep import *\n",
    "userFeaturesTrain, recItemsTrain, purchaseLabelTrain, userFeaturesVal, recItemsVal, purchaseLabelVal = splitTrainSet()\n",
    "userFeaturesTrain = pd.concat((userFeaturesTrain, userFeaturesVal), ignore_index=True)\n",
    "recItemsTrain = np.vstack((recItemsTrain, recItemsVal))\n",
    "purchaseLabelTrain = np.vstack((purchaseLabelTrain, purchaseLabelVal))"
   ]
  },
  {
   "cell_type": "code",
   "execution_count": 14,
   "id": "829abf27-4063-40a6-94de-ad99f8ca54d6",
   "metadata": {},
   "outputs": [
    {
     "name": "stderr",
     "output_type": "stream",
     "text": [
      "/home/minh/anaconda3/lib/python3.8/site-packages/sklearn/base.py:310: UserWarning: Trying to unpickle estimator SparsePCA from version 0.24.2 when using version 0.24.1. This might lead to breaking code or invalid results. Use at your own risk.\n",
      "  warnings.warn(\n"
     ]
    }
   ],
   "source": [
    "# dimension reduction with PCA\n",
    "# comment this part out to use original user features \n",
    "\n",
    "# cluster model of 20D\n",
    "from DataPrep import getClusterModel200_20D, getClusterLabels100\n",
    "ClusterModel, clusterLabels = getClusterLabels100()\n",
    "\n",
    "from DataPrep import getPCATransformer\n",
    "PCAtransformer = getPCATransformer()\n",
    "# userFeaturesTrain = PCAtransformer.transform(userFeaturesTrain)\n",
    "# userFeaturesVal = PCAtransformer.transform(userFeaturesVal)\n"
   ]
  },
  {
   "cell_type": "code",
   "execution_count": 15,
   "id": "c6837766-347a-4c21-9259-3a1cefeb2b1f",
   "metadata": {},
   "outputs": [
    {
     "name": "stderr",
     "output_type": "stream",
     "text": [
      "  0%|          | 0/260087 [00:00<?, ?it/s]"
     ]
    },
    {
     "name": "stdout",
     "output_type": "stream",
     "text": [
      "Number of Item Sets 3: 112368\n"
     ]
    },
    {
     "name": "stderr",
     "output_type": "stream",
     "text": [
      "100%|██████████| 260087/260087 [00:15<00:00, 16636.62it/s]\n"
     ]
    }
   ],
   "source": [
    "# 2.\n",
    "import numpy as np\n",
    "from tqdm import tqdm\n",
    "from classes.QLearning2 import *\n",
    "\n",
    "# predict user cluster label for users in the training set\n",
    "NCLUSTERS = 100\n",
    "# ClusterModel, clusterLabels = getClusterLabels100()\n",
    "clusterLabelTrain  = ClusterModel.predict(userFeaturesTrain)\n",
    "# load item info\n",
    "from classes.Items import Items\n",
    "itemInfo = Items()\n",
    "# load itemset info\n",
    "from classes.ItemSet import ItemSet3\n",
    "itemSets = ItemSet3()\n",
    "N_Sets = itemSets.getNSets()\n",
    "print('Number of Item Sets 3: ' + str(N_Sets))\n",
    "\n",
    "# initialize Q tables \n",
    "QLModels = []\n",
    "trainData = []\n",
    "for i in range(NCLUSTERS):\n",
    "    QLModels.append(QLearning(n_states = 3, n_actions = N_Sets))\n",
    "    trainData.append([])\n",
    "\n",
    "# to train Q tables: \n",
    "#### state: 0, 1, or 2\n",
    "#### action: the itemSet recommended\n",
    "#### reward: (item is purchased) * price\n",
    "#### nextState: 1 or 2. -1 if there is no next state\n",
    "#### to feed a set of (state, action, reward) to a Q table\n",
    "for i in tqdm(range(len(recItemsTrain))):\n",
    "# loop thru samples\n",
    "    recItems = recItemsTrain[i]\n",
    "    purLabel = purchaseLabelTrain[i]\n",
    "    for j in [0, 3, 6]: # process each Set3 at once\n",
    "        if j>2 and purLabel[0]*purLabel[1]*purLabel[2]==0:\n",
    "            # don't train if game stopped\n",
    "            break\n",
    "        if j>5 and purLabel[3]*purLabel[4]*purLabel[5]==0:\n",
    "            # don't train if game stopped\n",
    "            break\n",
    "        # calculate state:\n",
    "        state = j/3\n",
    "        # next state:\n",
    "        if j==0:\n",
    "            if purLabel[0]*purLabel[1]*purLabel[2]==0: # terminated\n",
    "                nextState = -1\n",
    "            else:\n",
    "                nextState = 1\n",
    "        elif j==3:\n",
    "            if purLabel[3]*purLabel[4]*purLabel[5]==0: # terminated\n",
    "                nextState = -1\n",
    "            else:\n",
    "                nextState = 2\n",
    "        else:\n",
    "            nextState = -1\n",
    "        \n",
    "        # calculate action:\n",
    "        itemSet = [recItems[j], recItems[j+1], recItems[j+2]]\n",
    "        action = itemSets.getSetID(itemSet)\n",
    "\n",
    "        # calculate rewards, note: itemPrice is an array, itemID from raw data is 1-based index\n",
    "        prices = [itemInfo.getItemPrice(itemSet[0]), itemInfo.getItemPrice(itemSet[1]), itemInfo.getItemPrice(itemSet[2])]\n",
    "        labels = [purLabel[j], purLabel[j+1], purLabel[j+2]]\n",
    "        reward = sum([prices[t]*labels[t] for t in range(3)])\n",
    "\n",
    "        train_data = (state, action, reward, nextState)\n",
    "        # predict user cluster label of this sample based on user features\n",
    "        clusterID = clusterLabelTrain[i]\n",
    "        trainData[clusterID].append(train_data)\n"
   ]
  },
  {
   "cell_type": "code",
   "execution_count": 16,
   "id": "53fc2838-d81b-44d7-95f8-9b7919b396f2",
   "metadata": {},
   "outputs": [
    {
     "name": "stderr",
     "output_type": "stream",
     "text": [
      "100%|██████████| 100/100 [04:37<00:00,  2.77s/it]\n"
     ]
    }
   ],
   "source": [
    "for i in tqdm(range(NCLUSTERS)):\n",
    "    QLModels[i].trainParallel(trainData[i])"
   ]
  },
  {
   "cell_type": "code",
   "execution_count": 17,
   "id": "b8326ea5-e20e-426a-8c64-3bf1723d75fd",
   "metadata": {},
   "outputs": [
    {
     "name": "stderr",
     "output_type": "stream",
     "text": [
      "100%|██████████| 52018/52018 [00:09<00:00, 5745.16it/s] \n"
     ]
    }
   ],
   "source": [
    "# 3. make suggestion for Val set\n",
    "# predict user cluster label for users in the Val set\n",
    "clusterLabelVal  = ClusterModel.predict(userFeaturesVal)\n",
    "\n",
    "for i in range(NCLUSTERS):\n",
    "    QLModels[i].initPredCache()\n",
    "\n",
    "\n",
    "# make suggestion for each test sample\n",
    "items_out_val = []\n",
    "for cluster in tqdm(clusterLabelVal):\n",
    "# clusterLabelTest is array of labels of users in Val set\n",
    "    model = QLModels[cluster]\n",
    "    bestSetID0 = model.predictBestK(0, 2)   # best action for first state\n",
    "    bestSetID1 = model.predictBestK(1, 100)   # best 100 actions for second state\n",
    "    bestSetID2 = model.predictBestK(2, 100)   # best 100 actions for third state\n",
    "    finalItems = []\n",
    "    items = itemSets.getItemSet(bestSetID0[0])\n",
    "    finalItems.extend(list(items))\n",
    "    for setID in bestSetID1:  # make suggestion for stage 1\n",
    "        items = itemSets.getItemSet(setID)\n",
    "        if items[0] not in finalItems and items[1] not in finalItems and items[2] not in finalItems:\n",
    "            finalItems.extend(list(items))\n",
    "            break\n",
    "    for setID in bestSetID2:  # make suggestion for stage 2\n",
    "        items = itemSets.getItemSet(setID)\n",
    "        if items[0] not in finalItems and items[1] not in finalItems and items[2] not in finalItems:\n",
    "            finalItems.extend(list(items))\n",
    "            break\n",
    "    items_out_val.append(finalItems)\n"
   ]
  },
  {
   "cell_type": "code",
   "execution_count": 6,
   "id": "70638934-e463-40c3-8c9a-e63f28edf0f1",
   "metadata": {},
   "outputs": [],
   "source": [
    "# Calculate Metrics 1 for our suggestions"
   ]
  },
  {
   "cell_type": "code",
   "execution_count": 20,
   "id": "aaeff949-6cf0-4062-a14f-b6a65e84586c",
   "metadata": {},
   "outputs": [
    {
     "name": "stdout",
     "output_type": "stream",
     "text": [
      "38679534946\n",
      "159313694728\n",
      "percentage of max score: 0.2427885123877045\n"
     ]
    }
   ],
   "source": [
    "# 4. calculate metrics\n",
    "from classes.Metrics import *\n",
    "metrics = Metrics(recItemsVal, purchaseLabelVal)\n",
    "score = metrics.calculate_metrics2(items_out_val, w3 = 1000)\n",
    "print(score)\n",
    "# calculate metrics of test set (max score possible by ground truth)\n",
    "score_max = metrics.calculate_metrics2(recItemsVal, w3 = 1000)\n",
    "print(score_max) # max score possible\n",
    "print('percentage of max score: ' + str(score/score_max))"
   ]
  },
  {
   "cell_type": "code",
   "execution_count": 9,
   "id": "0c3723a7-1e4d-4253-9b8c-a60001c1eb1f",
   "metadata": {},
   "outputs": [],
   "source": [
    "# 5. make suggestion for competition's test set\n",
    "# predict user cluster label for users in the test set\n",
    "userIDs, userFeaturesTest = getUserFeaturesTestSet()\n",
    "userFeaturesTest = PCAtransformer.transform(userFeaturesTest)"
   ]
  },
  {
   "cell_type": "code",
   "execution_count": 10,
   "id": "3599bc91-ef71-4092-9577-83107203304b",
   "metadata": {},
   "outputs": [
    {
     "name": "stderr",
     "output_type": "stream",
     "text": [
      "100% 206096/206096 [10:13:43<00:00,  5.60it/s] \n"
     ]
    }
   ],
   "source": [
    "clusterLabelTest  = ClusterModel.predict(userFeaturesTest)\n",
    "\n",
    "# make suggestion for each test sample\n",
    "items_out_test = []\n",
    "for cluster in tqdm(clusterLabelTest):\n",
    "# clusterLabelTest is array of labels of users in test set\n",
    "    model = QLModels[cluster]\n",
    "    bestSetID0 = model.predictBestK(0, 2)   # best action for first state\n",
    "    bestSetID1 = model.predictBestK(1, 100)   # best 100 actions for second state\n",
    "    bestSetID2 = model.predictBestK(2, 100)   # best 100 actions for third state\n",
    "    finalItems = []\n",
    "    items = itemSets.getItemSet(bestSetID0[0])\n",
    "    finalItems.extend(list(items))\n",
    "    for setID in bestSetID1:  # make suggestion for stage 1\n",
    "        items = itemSets.getItemSet(setID)\n",
    "        if items[0] not in finalItems and items[1] not in finalItems and items[2] not in finalItems:\n",
    "            finalItems.extend(list(items))\n",
    "            break\n",
    "    for setID in bestSetID2:  # make suggestion for stage 2\n",
    "        items = itemSets.getItemSet(setID)\n",
    "        if items[0] not in finalItems and items[1] not in finalItems and items[2] not in finalItems:\n",
    "            finalItems.extend(list(items))\n",
    "            break\n",
    "    items_out_test.append(finalItems)\n"
   ]
  },
  {
   "cell_type": "code",
   "execution_count": 12,
   "id": "c6c516d0-14af-4f87-87cf-d65347625cf1",
   "metadata": {},
   "outputs": [],
   "source": [
    "# write recommended items to output csv file\n",
    "from classes.output import writeOutput\n",
    "writeOutput(items_out_test, 'QLearning-3D-20DFeatures.csv', userIDs)"
   ]
  },
  {
   "cell_type": "code",
   "execution_count": 11,
   "id": "7ffc10b4-435c-4399-b2f8-4cf428f59410",
   "metadata": {},
   "outputs": [
    {
     "name": "stdout",
     "output_type": "stream",
     "text": [
      "[[1, 16, 26, 51, 80, 107, 160, 200, 234], [1, 7, 14, 51, 80, 107, 172, 199, 234], [1, 16, 26, 51, 80, 107, 160, 200, 234], [1, 17, 33, 51, 80, 107, 172, 233, 234], [1, 7, 14, 73, 78, 125, 158, 171, 214], [1, 17, 30, 51, 80, 107, 172, 233, 234], [1, 13, 15, 73, 79, 126, 171, 200, 220], [1, 7, 24, 47, 79, 107, 160, 200, 221], [1, 17, 30, 79, 80, 132, 172, 199, 221], [6, 7, 14, 79, 101, 129, 172, 196, 234], [1, 7, 28, 45, 49, 112, 164, 199, 200], [1, 7, 14, 51, 80, 107, 172, 199, 220], [1, 7, 32, 73, 78, 107, 172, 188, 234], [1, 5, 34, 50, 79, 101, 164, 234, 235], [1, 7, 14, 51, 80, 107, 172, 199, 234], [1, 7, 32, 61, 80, 106, 172, 199, 235], [1, 4, 14, 80, 106, 111, 160, 200, 233], [1, 7, 14, 41, 80, 101, 164, 172, 213], [4, 15, 20, 73, 86, 132, 164, 200, 234], [1, 19, 21, 77, 80, 106, 164, 200, 234], [1, 7, 28, 73, 79, 100, 172, 196, 233], [1, 7, 14, 51, 80, 107, 172, 199, 220], [1, 7, 18, 61, 80, 107, 171, 200, 220], [1, 7, 14, 40, 47, 79, 160, 199, 213], [1, 17, 30, 61, 80, 107, 172, 199, 221], [1, 7, 14, 51, 80, 107, 172, 199, 234], [1, 7, 39, 61, 80, 107, 172, 199, 234], [1, 7, 32, 49, 80, 101, 172, 199, 235], [1, 28, 33, 56, 107, 113, 172, 199, 221], [1, 7, 14, 61, 80, 107, 172, 199, 221], [4, 7, 30, 61, 80, 107, 172, 196, 234], [1, 7, 26, 51, 80, 107, 172, 199, 221], [1, 15, 32, 51, 80, 107, 172, 199, 235], [1, 7, 29, 80, 106, 126, 164, 200, 234], [1, 7, 26, 51, 80, 107, 172, 199, 221], [1, 26, 29, 51, 80, 107, 171, 172, 233], [1, 7, 14, 73, 78, 125, 158, 171, 214], [6, 7, 14, 79, 101, 129, 172, 196, 234], [1, 7, 14, 73, 78, 125, 158, 171, 214], [1, 7, 24, 47, 79, 107, 160, 200, 221], [1, 7, 14, 73, 80, 125, 164, 200, 233], [1, 7, 32, 73, 78, 107, 172, 188, 234], [1, 26, 32, 73, 79, 126, 164, 200, 234], [1, 14, 19, 51, 81, 107, 172, 196, 233], [1, 7, 14, 40, 47, 79, 160, 199, 213], [1, 7, 24, 51, 80, 101, 158, 160, 236], [1, 15, 32, 51, 80, 107, 172, 199, 235], [1, 4, 14, 80, 106, 111, 160, 200, 233], [1, 29, 30, 51, 81, 101, 172, 221, 235], [1, 15, 32, 51, 80, 107, 172, 199, 235]]\n"
     ]
    }
   ],
   "source": [
    "print(items_out_test[:50])\n"
   ]
  },
  {
   "cell_type": "code",
   "execution_count": 4,
   "id": "7137db78-71de-435a-aeaa-f5cda83f6191",
   "metadata": {},
   "outputs": [
    {
     "data": {
      "text/plain": [
       "dtype('float32')"
      ]
     },
     "execution_count": 4,
     "metadata": {},
     "output_type": "execute_result"
    }
   ],
   "source": [
    "QLModels[0].QTable.dtype"
   ]
  },
  {
   "cell_type": "code",
   "execution_count": null,
   "id": "23847e2d-5887-479e-8b35-65bd9867abad",
   "metadata": {},
   "outputs": [],
   "source": []
  }
 ],
 "metadata": {
  "kernelspec": {
   "display_name": "Python 3",
   "language": "python",
   "name": "python3"
  },
  "language_info": {
   "codemirror_mode": {
    "name": "ipython",
    "version": 3
   },
   "file_extension": ".py",
   "mimetype": "text/x-python",
   "name": "python",
   "nbconvert_exporter": "python",
   "pygments_lexer": "ipython3",
   "version": "3.8.8"
  }
 },
 "nbformat": 4,
 "nbformat_minor": 5
}
