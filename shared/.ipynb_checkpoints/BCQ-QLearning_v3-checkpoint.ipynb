{
 "cells": [
  {
   "cell_type": "code",
   "execution_count": 1,
   "id": "d21feb90-2a7a-4a53-80a7-22714db93437",
   "metadata": {},
   "outputs": [],
   "source": [
    "###############################################################################\n",
    "# BCQ to predict first 3D item set\n",
    "# Q Learning to predict the other 2 item sets \n",
    "#     Q Table: state = itemSetID\n",
    "#              action = itemSetID\n",
    "#\n",
    "# 0. split train data into training set and validation set\n",
    "# ----- Train BCQ -----------------\n",
    "# 1.1 prepare data for training set:\n",
    "#       step: 0, 1, 2, ..., 9\n",
    "#       state: userFeatures20D + [step]\n",
    "#       action: itemID\n",
    "# 1.2 Train BCQ\n",
    "#\n",
    "# ----- Train Q Learning ----------\n",
    "# 2.1 prepare data for training set:\n",
    "#     state: itemSetID\n",
    "#     action itemSetID\n",
    "# 2.2 Train Q Learning\n",
    "# \n",
    "# ----- Prediction ----------------\n",
    "# 3.1 transform userFeaturesTest to 20D by using PCA\n",
    "# 3.2 Make prediction of the first itemSet by using BCQModel, name it itemSet1\n",
    "# 3.3 use itemSet1 as state for QLModel to predict best itemSet2\n",
    "# 3.4 use itemSet2 as state for QLModel to predict best itemSet3\n",
    "###############################################################################"
   ]
  },
  {
   "cell_type": "code",
   "execution_count": 1,
   "id": "5c265706-3767-47fa-a41c-958e0ce0b641",
   "metadata": {},
   "outputs": [
    {
     "name": "stdout",
     "output_type": "stream",
     "text": [
      "Number of Multiprocessing threads: 31\n"
     ]
    }
   ],
   "source": [
    "# 1. Split Train \n",
    "from DataPrep import *\n",
    "from tqdm import tqdm\n",
    "userFeaturesTrain, recItemsTrain, purchaseLabelTrain, userFeaturesVal, recItemsVal, purchaseLabelVal = splitTrainSet()\n",
    "# when training, userFeaturesTrain represent state\n",
    "N_ITEMS = 381\n",
    "# load item info\n",
    "from classes.Items import Items\n",
    "itemInfo = Items()\n"
   ]
  },
  {
   "cell_type": "code",
   "execution_count": 9,
   "id": "2150bddc-23e4-40a8-8759-fee6a2b3f6ce",
   "metadata": {},
   "outputs": [],
   "source": []
  },
  {
   "cell_type": "code",
   "execution_count": 19,
   "id": "9836e897-f972-4c7d-a1f1-1c711c21b475",
   "metadata": {},
   "outputs": [],
   "source": [
    "# ----------------------------- Train Q Learning --------------------------------------------\n"
   ]
  },
  {
   "cell_type": "code",
   "execution_count": 5,
   "id": "8ef361ac-e67d-4635-815d-554e663b7671",
   "metadata": {},
   "outputs": [
    {
     "name": "stderr",
     "output_type": "stream",
     "text": [
      "  2%|▏         | 3941/208069 [00:00<00:10, 19834.12it/s]"
     ]
    },
    {
     "name": "stdout",
     "output_type": "stream",
     "text": [
      "Number of Item Sets 3: 112368\n"
     ]
    },
    {
     "name": "stderr",
     "output_type": "stream",
     "text": [
      "100%|██████████| 208069/208069 [00:10<00:00, 19818.37it/s]\n"
     ]
    }
   ],
   "source": [
    "# 2.\n",
    "import numpy as np\n",
    "from tqdm import tqdm\n",
    "from classes.QLearning2 import *\n",
    "\n",
    "# predict user cluster label for users in the training set\n",
    "NCLUSTERS = 200\n",
    "\n",
    "# load itemset info\n",
    "from classes.ItemSet import ItemSet3\n",
    "itemSets = ItemSet3()\n",
    "N_Sets = itemSets.getNSets()\n",
    "print('Number of Item Sets 3: ' + str(N_Sets), flush = True)\n",
    "\n",
    "# to train Q tables: \n",
    "#### state: 0, 1, or 2\n",
    "#### action: the itemSet recommended\n",
    "#### reward: (item is purchased) * price\n",
    "#### nextState: 1 or 2. -1 if there is no next state\n",
    "#### to feed a set of (state, action, reward) to a Q table\n",
    "trainSetQL = []\n",
    "for i in tqdm(range(len(recItemsTrain))):\n",
    "# loop thru samples\n",
    "    recItems = recItemsTrain[i]\n",
    "    purLabel = purchaseLabelTrain[i]\n",
    "    for j in [0, 3, 6]: # process each Set3 at once\n",
    "        if j>2 and purLabel[0]*purLabel[1]*purLabel[2]==0:\n",
    "            # don't train if game stopped\n",
    "            break\n",
    "        if j>5 and purLabel[3]*purLabel[4]*purLabel[5]==0:\n",
    "            # don't train if game stopped\n",
    "            break\n",
    "        # calculate state:\n",
    "        state = j/3\n",
    "        # next state:\n",
    "        if j==0:\n",
    "            if purLabel[0]*purLabel[1]*purLabel[2]==0: # terminated\n",
    "                nextState = -1\n",
    "            else:\n",
    "                nextState = 1\n",
    "        elif j==3:\n",
    "            if purLabel[3]*purLabel[4]*purLabel[5]==0: # terminated\n",
    "                nextState = -1\n",
    "            else:\n",
    "                nextState = 2\n",
    "        else:\n",
    "            nextState = -1\n",
    "        \n",
    "        # calculate action:\n",
    "        itemSet = [recItems[j], recItems[j+1], recItems[j+2]]\n",
    "        action = itemSets.getSetID(itemSet)\n",
    "\n",
    "        # calculate rewards, note: itemPrice is an array, itemID from raw data is 1-based index\n",
    "        prices = [itemInfo.getItemPrice(itemSet[0]), itemInfo.getItemPrice(itemSet[1]), itemInfo.getItemPrice(itemSet[2])]\n",
    "        labels = [purLabel[j], purLabel[j+1], purLabel[j+2]]\n",
    "        reward = sum([prices[t]*labels[t] for t in range(3)])\n",
    "\n",
    "        trainSetQL.append((state, action, reward, nextState))\n"
   ]
  },
  {
   "cell_type": "code",
   "execution_count": 9,
   "id": "5b51d0ef-35f6-44f6-9f08-fe4f23cd7cc5",
   "metadata": {},
   "outputs": [
    {
     "name": "stdout",
     "output_type": "stream",
     "text": [
      "N_ACTIONS: 3 N_STATES: 112368\n",
      "parallel training ... \n"
     ]
    }
   ],
   "source": [
    "# 2.2 Train QL model\n",
    "# initialize\n",
    "from classes import QLearning2\n",
    "from importlib import reload  \n",
    "QLearning2 = reload(QLearning2)\n",
    "\n",
    "print('N_ACTIONS: ' + str(3) + ' N_STATES: ' + str(N_Sets))\n",
    "QLModel = QLearning2.QLearning(n_states = 3, n_actions = N_Sets)\n",
    "# train in parallel\n",
    "QLModel.trainParallel(trainSetQL)\n",
    "# QLModel.train(trainSetQL)\n"
   ]
  },
  {
   "cell_type": "code",
   "execution_count": 18,
   "id": "9ef31223-df16-410e-a95a-cc0c88a4e4a6",
   "metadata": {},
   "outputs": [
    {
     "name": "stdout",
     "output_type": "stream",
     "text": [
      "[(158, 171, 214), (171, 172, 188), (171, 200, 234), (160, 199, 200), (172, 192, 234), (164, 171, 214), (164, 172, 233), (160, 172, 239), (160, 172, 199), (172, 192, 237), (172, 214, 235), (160, 235, 239), (171, 172, 237), (164, 172, 188), (172, 190, 199), (160, 172, 235), (164, 171, 237), (172, 188, 199), (171, 172, 214), (160, 238, 240), (171, 234, 237), (160, 164, 213), (171, 194, 234), (160, 234, 238), (160, 171, 204), (172, 220, 233), (164, 172, 219), (171, 234, 235), (164, 172, 183), (164, 172, 215), (172, 214, 239), (172, 199, 235), (172, 204, 237), (172, 199, 214), (172, 191, 234), (172, 217, 235), (148, 172, 234), (172, 194, 238), (160, 189, 235), (172, 190, 234), (160, 215, 233), (154, 164, 171), (150, 158, 233), (148, 171, 219), (172, 205, 234), (172, 213, 235), (164, 172, 217), (164, 172, 212), (172, 220, 234), (172, 235, 237), (172, 191, 235), (172, 199, 238), (164, 171, 215), (164, 172, 221), (172, 213, 237), (171, 200, 237), (172, 199, 213), (172, 199, 237), (164, 172, 237), (172, 234, 238), (172, 237, 239), (164, 171, 199), (172, 221, 234), (171, 200, 217), (164, 171, 183), (172, 216, 234), (172, 188, 238), (172, 199, 234), (171, 222, 237), (148, 172, 235), (172, 201, 235), (172, 199, 219), (172, 201, 234), (172, 190, 220), (172, 220, 235), (172, 184, 192), (172, 190, 235), (172, 199, 228), (172, 221, 233), (164, 172, 199), (160, 188, 199), (160, 205, 234), (160, 191, 199), (160, 191, 214), (160, 188, 234), (160, 200, 241), (172, 233, 240), (172, 204, 234), (172, 215, 235), (160, 234, 239), (160, 164, 235), (171, 191, 199), (160, 171, 199), (172, 191, 199), (159, 200, 214), (172, 235, 236), (160, 200, 212), (172, 184, 234), (160, 190, 211), (172, 194, 199)]\n"
     ]
    }
   ],
   "source": [
    "# best candidate sets for step 3\n",
    "QLModel.initPredCache()\n",
    "candidateSetIDs = QLModel.predictBestK(2, 100)\n",
    "candidateItemSets = []\n",
    "for setID in candidateSetIDs:\n",
    "    items = itemSets.getItemSet(setID)\n",
    "    candidateItemSets.append(items)\n"
   ]
  },
  {
   "cell_type": "code",
   "execution_count": 28,
   "id": "21ff838c-6996-4954-bf77-18c544e43b8e",
   "metadata": {},
   "outputs": [
    {
     "name": "stdout",
     "output_type": "stream",
     "text": [
      "[[220, 221, 240, 196, 238, 214, 218, 239, 233], [220, 240, 221, 196, 238, 214, 239, 218, 233], [220, 221, 240, 196, 238, 214, 218, 239, 233], [220, 221, 240, 196, 238, 214, 239, 218, 233], [220, 240, 221, 196, 238, 239, 214, 218, 233], [220, 240, 221, 196, 238, 214, 239, 218, 233], [220, 221, 240, 196, 238, 214, 218, 239, 233], [220, 221, 240, 196, 238, 214, 239, 218, 233], [220, 240, 221, 196, 238, 239, 214, 218, 233], [220, 240, 221, 238, 196, 239, 214, 218, 233]]\n"
     ]
    }
   ],
   "source": [
    "# get the first 6 from BCQ\n",
    "import pandas as pd\n",
    "BCQoutput = pd.read_csv('./outputs/DiscreteBCQ_20DFeatures.csv')\n",
    "BCQItems = []\n",
    "for i in range(BCQoutput.shape[0]):\n",
    "    items = [int(x) for x in BCQoutput.itemids[i].split(' ')]\n",
    "    BCQItems.append(items)\n"
   ]
  },
  {
   "cell_type": "code",
   "execution_count": 10,
   "id": "426de0a2-9877-4c2c-9f13-62230110bb57",
   "metadata": {},
   "outputs": [],
   "source": [
    "######################## PREDICTION ##########################################\n",
    "userIDs, userFeaturesTest = getUserFeaturesTestSet()\n",
    "\n",
    "items_out = []\n",
    "for i in range(BCQoutput.shape[0]):\n",
    "    First6 = BCQItems[i][:6]\n",
    "    for items in candidateItemSets:\n",
    "        if (items[0] not in First6)  and (items[1] not in First6)  and (items[2] not in First6):\n",
    "            items_out.append(First6 + list(items))\n",
    "            \n"
   ]
  },
  {
   "cell_type": "code",
   "execution_count": 11,
   "id": "56f3f698-b63f-40ec-ba25-e96a0dfe7fb6",
   "metadata": {},
   "outputs": [],
   "source": [
    "# 3.1 transform userFeaturesTest to 20D by using PCA\n",
    "userFeaturesTest = pd.DataFrame(PCAtransformer.transform(userFeaturesTest))"
   ]
  },
  {
   "cell_type": "code",
   "execution_count": null,
   "id": "e504030e-172b-4417-8cab-36028c241bd1",
   "metadata": {},
   "outputs": [
    {
     "name": "stderr",
     "output_type": "stream",
     "text": [
      "100% 206096/206096 [00:22<00:00, 9229.85it/s] \n",
      "100% 381/381 [57:54<00:00,  9.12s/it]\n",
      "100% 1236576/1236576 [05:27<00:00, 3775.36it/s]\n"
     ]
    }
   ],
   "source": [
    "# predict first 6 items with BCQ\n",
    "from classes.d3rlpy_wrapper import predictBestK, finalizeItemSetsTestSet\n",
    "statesTest = []  # this will be userFeaturesTest appended with a column of step = 0 to 8\n",
    "for i in tqdm(range(userFeaturesTest.shape[0])):\n",
    "# loop through samples\n",
    "    state = list(userFeaturesTest.iloc[i])\n",
    "    for step in range(6):\n",
    "        # append step to state\n",
    "        statesTest.append(state + [step])\n",
    "statesTest = np.array(statesTest)\n",
    "bestItems_6xSamples = predictBestK(BCQModel, statesTest, 6)\n",
    "bestFirst6tems = finalizeItemSetsTestSet(bestItems_6xSamples)\n",
    "\n",
    "\n",
    "# QLModel.initPredCache()\n",
    "# recItems_test = []\n",
    "# for i in tqdm(range(userFeaturesTest.shape[0])):\n",
    "# # loop thru samples\n",
    "#     recItems = []  # recommended list for this sample\n",
    "#     # 3.2 Make prediction of the first itemSet by using BCQModel, name it itemSet1\n",
    "#     state = userFeaturesTest.iloc[i]  # first step of the game\n",
    "#     itemSetID1 = BCQModel.predict([np.array(state)])[0]\n",
    "#     recItems.extend(list(itemSet3.getItemSet(itemSetID1)))\n",
    "#     # 3.3 use itemSet1 as state for QLModel to predict best itemSet2\n",
    "#     # now stateID = itemSetID1\n",
    "#     candidateSetIDs = QLModel.predictBestK(itemSetID1, 20)\n",
    "#     for setID in candidateSetIDs:\n",
    "#         items = itemSet3.getItemSet(setID)\n",
    "#         if (items[0] not in recItems) and (items[1] not in recItems) and (items[2] not in recItems):\n",
    "#             # we have found a suitable solution for step 2\n",
    "#             itemSetID2 = setID\n",
    "#             recItems.extend(list(items))\n",
    "#             break\n",
    "#     # 3.4 use itemSet2 as state for QLModel to predict best itemSet3\n",
    "#     # now stateID = itemSetID2\n",
    "#     candidateSetIDs = QLModel.predictBestK(itemSetID2, 20)\n",
    "#     for setID in candidateSetIDs:\n",
    "#         items = itemSet3.getItemSet(setID)\n",
    "#         if (items[0] not in recItems) and (items[1] not in recItems) and (items[2] not in recItems):\n",
    "#             # we have found a suitable solution for step 2\n",
    "#             itemSetID3 = setID\n",
    "#             recItems.extend(list(items))\n",
    "#             break\n",
    "#     recItems_test.append(recItems)\n"
   ]
  },
  {
   "cell_type": "code",
   "execution_count": 13,
   "id": "2e143b8f-6d91-457d-ba22-fde228928ee9",
   "metadata": {},
   "outputs": [
    {
     "name": "stderr",
     "output_type": "stream",
     "text": [
      "100% 1236576/1236576 [00:11<00:00, 104933.51it/s]\n"
     ]
    }
   ],
   "source": [
    "bestFirst6tems = finalizeItemSetsTestSet(statesTest, bestItems_3xSamples, 6)\n",
    "assert len(bestFirst6tems)==len(userIDs)\n"
   ]
  },
  {
   "cell_type": "code",
   "execution_count": 20,
   "id": "598c335e-71a7-4034-b84f-2f718be9fbcf",
   "metadata": {},
   "outputs": [
    {
     "name": "stderr",
     "output_type": "stream",
     "text": [
      "100% 206096/206096 [00:02<00:00, 99717.87it/s] \n"
     ]
    }
   ],
   "source": [
    "# predict last 3 items with QL\n",
    "QLModel.initPredCache()\n",
    "bestItemSetIDs = QLModel.predictBestK(2, 100)\n",
    "finalItems = []\n",
    "for i in tqdm(range(len(bestFirst6tems))):\n",
    "    first6 = bestFirst6tems[i]\n",
    "    for setID in bestItemSetIDs:\n",
    "        items = itemSet3.getItemSet(setID)\n",
    "        if (items[0] not in first6) and (items[1] not in first6) and (items[2] not in first6):\n",
    "            finalItems.append(first6 + list(items))\n",
    "            break\n",
    "\n"
   ]
  },
  {
   "cell_type": "code",
   "execution_count": 21,
   "id": "a1890925-6a7f-4a35-a50d-5a75a79cb971",
   "metadata": {},
   "outputs": [
    {
     "name": "stdout",
     "output_type": "stream",
     "text": [
      "[[220, 196, 221, 95, 97, 48, 171, 172, 188], [220, 196, 221, 95, 97, 42, 171, 172, 188], [220, 196, 221, 95, 97, 48, 171, 172, 188], [220, 196, 221, 98, 97, 29, 171, 172, 188], [220, 196, 218, 240, 238, 29, 171, 172, 188], [220, 196, 221, 218, 97, 29, 171, 172, 188], [220, 196, 218, 221, 98, 29, 171, 172, 188], [220, 196, 221, 95, 97, 48, 171, 172, 188], [220, 196, 221, 95, 97, 42, 171, 172, 188], [220, 196, 221, 218, 97, 29, 171, 172, 188], [220, 196, 218, 221, 98, 29, 171, 172, 188], [220, 196, 218, 240, 238, 29, 171, 172, 188], [220, 196, 221, 95, 97, 42, 171, 172, 188], [220, 196, 221, 95, 97, 48, 171, 172, 188], [220, 196, 221, 95, 97, 42, 171, 172, 188], [220, 196, 221, 95, 97, 42, 171, 172, 188], [220, 196, 221, 95, 97, 42, 171, 172, 188], [220, 196, 218, 240, 98, 29, 171, 172, 188], [220, 196, 221, 95, 97, 48, 171, 172, 188], [220, 196, 221, 218, 97, 29, 171, 172, 188], [220, 196, 218, 240, 238, 29, 171, 172, 188], [220, 196, 218, 240, 238, 29, 171, 172, 188], [220, 196, 218, 221, 98, 29, 171, 172, 188], [220, 196, 218, 240, 238, 29, 171, 172, 188], [220, 196, 218, 221, 98, 29, 171, 172, 188], [220, 196, 218, 240, 221, 29, 171, 172, 188], [220, 196, 221, 95, 97, 48, 171, 172, 188], [220, 196, 221, 95, 97, 42, 171, 172, 188], [220, 196, 221, 95, 97, 48, 171, 172, 188], [220, 196, 221, 95, 97, 42, 171, 172, 188], [220, 196, 221, 95, 97, 42, 171, 172, 188], [220, 196, 221, 218, 97, 29, 171, 172, 188], [220, 196, 221, 95, 97, 42, 171, 172, 188], [220, 196, 221, 95, 97, 48, 171, 172, 188], [220, 196, 221, 218, 97, 29, 171, 172, 188], [220, 196, 221, 95, 97, 42, 171, 172, 188], [220, 196, 218, 240, 238, 29, 171, 172, 188], [220, 196, 221, 218, 97, 29, 171, 172, 188], [220, 196, 218, 240, 238, 29, 171, 172, 188], [220, 196, 221, 95, 97, 48, 171, 172, 188], [220, 196, 218, 240, 238, 29, 171, 172, 188], [220, 196, 221, 95, 97, 42, 171, 172, 188], [220, 196, 221, 98, 97, 29, 171, 172, 188], [220, 196, 221, 95, 97, 48, 171, 172, 188], [220, 196, 218, 240, 238, 29, 171, 172, 188], [220, 196, 221, 95, 97, 42, 171, 172, 188], [220, 196, 221, 98, 97, 29, 171, 172, 188], [220, 196, 221, 95, 97, 42, 171, 172, 188], [220, 196, 221, 95, 97, 42, 171, 172, 188], [220, 196, 221, 95, 97, 42, 171, 172, 188]]\n"
     ]
    }
   ],
   "source": [
    "print(finalItems[:50])"
   ]
  },
  {
   "cell_type": "code",
   "execution_count": 23,
   "id": "c4f67add-ce76-457a-a2ed-97f4284b9610",
   "metadata": {},
   "outputs": [],
   "source": [
    "# write recommended items to output csv file\n",
    "from classes.output import writeOutput\n",
    "writeOutput(finalItems, 'BCQ-QLearning_v2.csv', userIDs)"
   ]
  },
  {
   "cell_type": "code",
   "execution_count": null,
   "id": "5cd948d1-19fc-4c28-a2f4-c52cd6c85461",
   "metadata": {},
   "outputs": [],
   "source": []
  },
  {
   "cell_type": "code",
   "execution_count": null,
   "id": "8b2222dd-7e76-46d3-a6af-24d52b4a5267",
   "metadata": {},
   "outputs": [],
   "source": []
  },
  {
   "cell_type": "code",
   "execution_count": null,
   "id": "ba03fcaf-6713-486d-ab61-0dd8c900db2e",
   "metadata": {},
   "outputs": [],
   "source": []
  }
 ],
 "metadata": {
  "kernelspec": {
   "display_name": "Python 3",
   "language": "python",
   "name": "python3"
  },
  "language_info": {
   "codemirror_mode": {
    "name": "ipython",
    "version": 3
   },
   "file_extension": ".py",
   "mimetype": "text/x-python",
   "name": "python",
   "nbconvert_exporter": "python",
   "pygments_lexer": "ipython3",
   "version": "3.8.8"
  }
 },
 "nbformat": 4,
 "nbformat_minor": 5
}
