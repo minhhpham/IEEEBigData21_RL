{
 "cells": [
  {
   "cell_type": "code",
   "execution_count": 1,
   "id": "eef8fa22-bb9f-498e-a030-deba07bd1e3e",
   "metadata": {},
   "outputs": [
    {
     "name": "stdout",
     "output_type": "stream",
     "text": [
      "Number of Multiprocessing threads: 31\n"
     ]
    }
   ],
   "source": [
    "####################################################################\n",
    "# Implementation of BCQ.\n",
    "#     State: (User Portraits, whether the item was clicked)\n",
    "#     Action: itemID (each sample is split into 9 steps)\n",
    "#     Rewards: item_purchase * price\n",
    "# 0. split train data into training set and validation set\n",
    "# 1. prepare data for DQN from training set\n",
    "# 2. prepare data for DQN from validation set\n",
    "# 3. train DQN\n",
    "# 4. make suggestions for validation set\n",
    "# 5. Calculate Metrics 1 for our suggestions\n",
    "# 6. Generate suggestions for provided testset for true scoring\n",
    "#####################################################################"
   ]
  },
  {
   "cell_type": "code",
   "execution_count": 1,
   "id": "6c09ef55-57f0-4147-8b68-abfb0e21e866",
   "metadata": {},
   "outputs": [
    {
     "name": "stdout",
     "output_type": "stream",
     "text": [
      "Number of Multiprocessing threads: 31\n"
     ]
    }
   ],
   "source": [
    "from DataPrep import splitTrainSet2\n",
    "import pandas as pd\n",
    "\n",
    "userPortraitsTrain, clickTrain, recItemsTrain, purchaseLabelTrain, userPortraitsVal, clickVal, recItemsVal, purchaseLabelVal = splitTrainSet2()\n",
    "\n",
    "N_ITEMS = 381\n",
    "# load item price\n",
    "itemInfo = pd.read_csv('/tf/shared/item_info.csv', ' ')\n",
    "itemInfo = itemInfo.sort_values(by = 'item_id')\n",
    "itemPrice = itemInfo.price"
   ]
  },
  {
   "cell_type": "code",
   "execution_count": 9,
   "id": "c87abe9f-3ee3-4660-9693-45e7e5a6a8fa",
   "metadata": {},
   "outputs": [
    {
     "name": "stderr",
     "output_type": "stream",
     "text": [
      "100%|██████████| 208069/208069 [00:20<00:00, 9989.62it/s] \n"
     ]
    }
   ],
   "source": [
    "# 1. prepare data for BCQ from training set\n",
    "import numpy as np\n",
    "from d3rlpy.dataset import MDPDataset\n",
    "from tqdm import tqdm\n",
    "\n",
    "statesTrain = []\n",
    "actionsTrain = []\n",
    "rewardsTrain = []\n",
    "terminalTrain = []  # terminal flag: 0 = game continue, 1 = game stop\n",
    "\n",
    "for i in tqdm(range(len(userPortraitsTrain))):\n",
    "    itemList = recItemsTrain[i]       # list of 9\n",
    "    purchase = purchaseLabelTrain[i]  # list of 9\n",
    "    userPortraits = userPortraitsTrain[i]  # this is list of 10\n",
    "    clickedItems = clickTrain[i]      # list of variable length\n",
    "    for step in range(9):\n",
    "        # action: itemID\n",
    "        itemID = itemList[step]\n",
    "        actionsTrain.append(itemID)\n",
    "        # state: user portrait + whether item was clicked + step one-hot-encoded\n",
    "        if itemID in clickedItems:\n",
    "            click = 1\n",
    "        else:\n",
    "            click = 0\n",
    "        step_encoded = [0]*step + [1] + [0]*(8-step)\n",
    "        state = list(userPortraits) + step_encoded + [click]\n",
    "        statesTrain.append(state)\n",
    "        # calculate reward\n",
    "        if purchase[step]==1:\n",
    "            rewardsTrain.append(itemPrice[itemID-1]) # itemID-1 becuase itemPrice is a 0-based array\n",
    "        else:\n",
    "            rewardsTrain.append(0)\n",
    "        # terminal flag: determine by looking at previous purchase flags\n",
    "        if step<2:\n",
    "            terminalTrain.append(0) # game continue\n",
    "        elif step==2 and purchase[0]*purchase[1]*purchase[2]==0:\n",
    "            terminalTrain.append(1) # game stop\n",
    "        elif step<5:\n",
    "            terminalTrain.append(0) # game continue\n",
    "        elif step==5 and purchase[3]*purchase[4]*purchase[5]:\n",
    "            terminalTrain.append(1) # game stop\n",
    "        elif step<8:\n",
    "            terminalTrain.append(0) # game continue\n",
    "        else:\n",
    "            terminalTrain.append(1) # game stop\n",
    "\n",
    "statesTrain = np.array(statesTrain)\n",
    "actionsTrain = np.array(actionsTrain)\n",
    "rewardsTrain = np.array(rewardsTrain)\n",
    "terminalTrain = np.array(terminalTrain)\n",
    "datasetTrain = MDPDataset(statesTrain, actionsTrain, rewardsTrain, terminalTrain, discrete_action = True)"
   ]
  },
  {
   "cell_type": "code",
   "execution_count": 10,
   "id": "ef03198d-d150-481a-ab97-e09379bbaade",
   "metadata": {},
   "outputs": [
    {
     "name": "stderr",
     "output_type": "stream",
     "text": [
      "100%|██████████| 52018/52018 [00:04<00:00, 11358.77it/s]\n"
     ]
    }
   ],
   "source": [
    "# 1. prepare data for BCQ from validation set\n",
    "import numpy as np\n",
    "from d3rlpy.dataset import MDPDataset\n",
    "from tqdm import tqdm\n",
    "\n",
    "statesVal = []\n",
    "actionsVal = []\n",
    "rewardsVal = []\n",
    "terminalVal = []  # terminal flag: 0 = game continue, 1 = game stop\n",
    "\n",
    "for i in tqdm(range(len(userPortraitsVal))):\n",
    "    itemList = recItemsVal[i]       # list of 9\n",
    "    purchase = purchaseLabelVal[i]  # list of 9\n",
    "    userPortraits = userPortraitsVal[i]  # this is list of 10\n",
    "    clickedItems = clickVal[i]      # list of variable length\n",
    "    for step in range(9):\n",
    "        # action: itemID\n",
    "        itemID = itemList[step]\n",
    "        actionsVal.append(itemID)\n",
    "        # state: user portrait + whether item was clicked + step one-hot-encoded\n",
    "        if itemID in clickedItems:\n",
    "            click = 1\n",
    "        else:\n",
    "            click = 0\n",
    "        step_encoded = [0]*step + [1] + [0]*(8-step)\n",
    "        state = list(userPortraits) + step_encoded + [click] \n",
    "        statesVal.append(state)\n",
    "        # calculate reward\n",
    "        if purchase[step]==1:\n",
    "            rewardsVal.append(itemPrice[itemID-1]) # itemID-1 becuase itemPrice is a 0-based array\n",
    "        else:\n",
    "            rewardsVal.append(0)\n",
    "        # terminal flag: determine by looking at previous purchase flags\n",
    "        if step<2:\n",
    "            terminalVal.append(0) # game continue\n",
    "        elif step==2 and purchase[0]*purchase[1]*purchase[2]==0:\n",
    "            terminalVal.append(1) # game stop\n",
    "        elif step<5:\n",
    "            terminalVal.append(0) # game continue\n",
    "        elif step==5 and purchase[3]*purchase[4]*purchase[5]:\n",
    "            terminalVal.append(1) # game stop\n",
    "        elif step<8:\n",
    "            terminalVal.append(0) # game continue\n",
    "        else:\n",
    "            terminalVal.append(1) # game stop\n",
    "\n",
    "statesVal = np.array(statesVal)\n",
    "actionsVal = np.array(actionsVal)\n",
    "rewardsVal = np.array(rewardsVal)\n",
    "terminalVal = np.array(terminalVal)\n",
    "datasetVal = MDPDataset(statesVal, actionsVal, rewardsVal, terminalVal, discrete_action = True)"
   ]
  },
  {
   "cell_type": "code",
   "execution_count": 11,
   "id": "b2a1552e-0d3f-4fab-821f-7bec89177823",
   "metadata": {},
   "outputs": [
    {
     "name": "stdout",
     "output_type": "stream",
     "text": [
      "2021-08-21 23:31.18 [debug    ] RoundIterator is selected.\n",
      "2021-08-21 23:31.18 [info     ] Directory is created at d3rlpy_logs/DiscreteBCQ_20210821233118\n",
      "2021-08-21 23:31.18 [debug    ] Building models...\n",
      "2021-08-21 23:31.18 [debug    ] Models have been built.\n",
      "2021-08-21 23:35.34 [info     ] Model parameters are saved to d3rlpy_logs/DiscreteBCQ_20210821233118/model_46532.pt\n",
      "2021-08-21 23:39.53 [info     ] Model parameters are saved to d3rlpy_logs/DiscreteBCQ_20210821233118/model_93064.pt\n",
      "2021-08-21 23:44.04 [info     ] Model parameters are saved to d3rlpy_logs/DiscreteBCQ_20210821233118/model_139596.pt\n",
      "2021-08-21 23:48.22 [info     ] Model parameters are saved to d3rlpy_logs/DiscreteBCQ_20210821233118/model_186128.pt\n",
      "2021-08-21 23:52.42 [info     ] Model parameters are saved to d3rlpy_logs/DiscreteBCQ_20210821233118/model_232660.pt\n",
      "2021-08-21 23:56.36 [info     ] Model parameters are saved to d3rlpy_logs/DiscreteBCQ_20210821233118/model_279192.pt\n",
      "2021-08-22 00:00.55 [info     ] Model parameters are saved to d3rlpy_logs/DiscreteBCQ_20210821233118/model_325724.pt\n",
      "2021-08-22 00:05.13 [info     ] Model parameters are saved to d3rlpy_logs/DiscreteBCQ_20210821233118/model_372256.pt\n",
      "2021-08-22 00:09.30 [info     ] Model parameters are saved to d3rlpy_logs/DiscreteBCQ_20210821233118/model_418788.pt\n",
      "2021-08-22 00:13.48 [info     ] Model parameters are saved to d3rlpy_logs/DiscreteBCQ_20210821233118/model_465320.pt\n",
      "2021-08-22 00:18.06 [info     ] Model parameters are saved to d3rlpy_logs/DiscreteBCQ_20210821233118/model_511852.pt\n",
      "2021-08-22 00:22.26 [info     ] Model parameters are saved to d3rlpy_logs/DiscreteBCQ_20210821233118/model_558384.pt\n",
      "2021-08-22 00:26.45 [info     ] Model parameters are saved to d3rlpy_logs/DiscreteBCQ_20210821233118/model_604916.pt\n",
      "2021-08-22 00:31.04 [info     ] Model parameters are saved to d3rlpy_logs/DiscreteBCQ_20210821233118/model_651448.pt\n",
      "2021-08-22 00:35.23 [info     ] Model parameters are saved to d3rlpy_logs/DiscreteBCQ_20210821233118/model_697980.pt\n",
      "2021-08-22 00:39.43 [info     ] Model parameters are saved to d3rlpy_logs/DiscreteBCQ_20210821233118/model_744512.pt\n",
      "2021-08-22 00:44.03 [info     ] Model parameters are saved to d3rlpy_logs/DiscreteBCQ_20210821233118/model_791044.pt\n",
      "2021-08-22 00:48.19 [info     ] Model parameters are saved to d3rlpy_logs/DiscreteBCQ_20210821233118/model_837576.pt\n",
      "2021-08-22 00:52.30 [info     ] Model parameters are saved to d3rlpy_logs/DiscreteBCQ_20210821233118/model_884108.pt\n",
      "2021-08-22 00:56.50 [info     ] Model parameters are saved to d3rlpy_logs/DiscreteBCQ_20210821233118/model_930640.pt\n",
      "2021-08-22 01:01.09 [info     ] Model parameters are saved to d3rlpy_logs/DiscreteBCQ_20210821233118/model_977172.pt\n",
      "2021-08-22 01:05.27 [info     ] Model parameters are saved to d3rlpy_logs/DiscreteBCQ_20210821233118/model_1023704.pt\n",
      "2021-08-22 01:09.42 [info     ] Model parameters are saved to d3rlpy_logs/DiscreteBCQ_20210821233118/model_1070236.pt\n",
      "2021-08-22 01:13.27 [info     ] Model parameters are saved to d3rlpy_logs/DiscreteBCQ_20210821233118/model_1116768.pt\n",
      "2021-08-22 01:17.48 [info     ] Model parameters are saved to d3rlpy_logs/DiscreteBCQ_20210821233118/model_1163300.pt\n"
     ]
    },
    {
     "data": {
      "text/plain": [
       "[(1,\n",
       "  {'time_sample_batch': 0.00010749809639293822,\n",
       "   'time_algorithm_update': 0.004675005991317682,\n",
       "   'loss': 9160.539016765606,\n",
       "   'time_step': 0.005499218389049889}),\n",
       " (2,\n",
       "  {'time_sample_batch': 0.00010812649423131465,\n",
       "   'time_algorithm_update': 0.00470144230881039,\n",
       "   'loss': 1790.8441349574873,\n",
       "   'time_step': 0.005538534156886543}),\n",
       " (3,\n",
       "  {'time_sample_batch': 0.00010710878322184532,\n",
       "   'time_algorithm_update': 0.004574579040950689,\n",
       "   'loss': 2597.5195110422374,\n",
       "   'time_step': 0.005398291688091233}),\n",
       " (4,\n",
       "  {'time_sample_batch': 0.00010851423440954707,\n",
       "   'time_algorithm_update': 0.0046932787627947566,\n",
       "   'loss': 3438.688518540238,\n",
       "   'time_step': 0.005525618179291448}),\n",
       " (5,\n",
       "  {'time_sample_batch': 0.00010919761526546709,\n",
       "   'time_algorithm_update': 0.00473179443063099,\n",
       "   'loss': 4152.637403018741,\n",
       "   'time_step': 0.005565003686560755}),\n",
       " (6,\n",
       "  {'time_sample_batch': 0.00010344425297496673,\n",
       "   'time_algorithm_update': 0.004234154467466701,\n",
       "   'loss': 4920.146909250886,\n",
       "   'time_step': 0.005032006758441726}),\n",
       " (7,\n",
       "  {'time_sample_batch': 0.0001088962820957013,\n",
       "   'time_algorithm_update': 0.004730196597805071,\n",
       "   'loss': 5603.929876843825,\n",
       "   'time_step': 0.005551938151673787}),\n",
       " (8,\n",
       "  {'time_sample_batch': 0.00010849446696180844,\n",
       "   'time_algorithm_update': 0.004697362954215049,\n",
       "   'loss': 6282.130905062173,\n",
       "   'time_step': 0.005519563576058777}),\n",
       " (9,\n",
       "  {'time_sample_batch': 0.0001085325518345511,\n",
       "   'time_algorithm_update': 0.004701271042167541,\n",
       "   'loss': 6899.507895794389,\n",
       "   'time_step': 0.0055204952182276255}),\n",
       " (10,\n",
       "  {'time_sample_batch': 0.00010857750253932327,\n",
       "   'time_algorithm_update': 0.004693862045968193,\n",
       "   'loss': 7551.4298775954185,\n",
       "   'time_step': 0.005525050984709484}),\n",
       " (11,\n",
       "  {'time_sample_batch': 0.00010857634457063769,\n",
       "   'time_algorithm_update': 0.004714524449788109,\n",
       "   'loss': 8107.004334083727,\n",
       "   'time_step': 0.005544211636361852}),\n",
       " (12,\n",
       "  {'time_sample_batch': 0.00010933101223329374,\n",
       "   'time_algorithm_update': 0.004737797832177489,\n",
       "   'loss': 8614.176135457741,\n",
       "   'time_step': 0.005568868109871041}),\n",
       " (13,\n",
       "  {'time_sample_batch': 0.00010869300735383127,\n",
       "   'time_algorithm_update': 0.00471615139066758,\n",
       "   'loss': 9094.391615509609,\n",
       "   'time_step': 0.005543429131336945}),\n",
       " (14,\n",
       "  {'time_sample_batch': 0.0001091846624122055,\n",
       "   'time_algorithm_update': 0.004733960262468447,\n",
       "   'loss': 9744.253909005842,\n",
       "   'time_step': 0.005570891101659753}),\n",
       " (15,\n",
       "  {'time_sample_batch': 0.00010884643820466932,\n",
       "   'time_algorithm_update': 0.004717015214811994,\n",
       "   'loss': 10355.022352262078,\n",
       "   'time_step': 0.005554707064874952}),\n",
       " (16,\n",
       "  {'time_sample_batch': 0.00010860930056437923,\n",
       "   'time_algorithm_update': 0.004722619813992686,\n",
       "   'loss': 10848.336607164481,\n",
       "   'time_step': 0.005558358534669708}),\n",
       " (17,\n",
       "  {'time_sample_batch': 0.00010882738808266512,\n",
       "   'time_algorithm_update': 0.0047423189774451514,\n",
       "   'loss': 11405.14115334131,\n",
       "   'time_step': 0.005579988047292285}),\n",
       " (18,\n",
       "  {'time_sample_batch': 0.00010799742683667079,\n",
       "   'time_algorithm_update': 0.0046515736802880845,\n",
       "   'loss': 11693.093870954071,\n",
       "   'time_step': 0.0054829828072873125}),\n",
       " (19,\n",
       "  {'time_sample_batch': 0.0001067866783483127,\n",
       "   'time_algorithm_update': 0.004566594985205074,\n",
       "   'loss': 12014.223792044057,\n",
       "   'time_step': 0.005388871715309224}),\n",
       " (20,\n",
       "  {'time_sample_batch': 0.00010897970707861482,\n",
       "   'time_algorithm_update': 0.004728223449907391,\n",
       "   'loss': 12327.000535741816,\n",
       "   'time_step': 0.005567114238202864}),\n",
       " (21,\n",
       "  {'time_sample_batch': 0.00010943461456436555,\n",
       "   'time_algorithm_update': 0.004718001773389569,\n",
       "   'loss': 12509.228995931227,\n",
       "   'time_step': 0.005553054115813852}),\n",
       " (22,\n",
       "  {'time_sample_batch': 0.00010913091421967615,\n",
       "   'time_algorithm_update': 0.004719096991444642,\n",
       "   'loss': 12783.098696896004,\n",
       "   'time_step': 0.005551497918623061}),\n",
       " (23,\n",
       "  {'time_sample_batch': 0.0001081428031442623,\n",
       "   'time_algorithm_update': 0.004625571677908794,\n",
       "   'loss': 13057.054636947802,\n",
       "   'time_step': 0.005457092825568963}),\n",
       " (24,\n",
       "  {'time_sample_batch': 0.00010089839221092243,\n",
       "   'time_algorithm_update': 0.004029745059749958,\n",
       "   'loss': 13384.36994544119,\n",
       "   'time_step': 0.004832336270961862}),\n",
       " (25,\n",
       "  {'time_sample_batch': 0.00010922875232609634,\n",
       "   'time_algorithm_update': 0.004742645878153594,\n",
       "   'loss': 13786.289667756992,\n",
       "   'time_step': 0.00558110964756312})]"
      ]
     },
     "execution_count": 11,
     "metadata": {},
     "output_type": "execute_result"
    }
   ],
   "source": [
    "# prepare BCQ Model\n",
    "from d3rlpy.algos import DiscreteBCQ\n",
    "BCQModel = DiscreteBCQ(use_gpu = True)\n",
    "BCQModel.fit(datasetTrain, n_epochs=25, verbose=False, show_progress=False)\n"
   ]
  },
  {
   "cell_type": "code",
   "execution_count": null,
   "id": "265fc64f-0846-41e1-8dec-02e88ba1c64d",
   "metadata": {},
   "outputs": [],
   "source": []
  },
  {
   "cell_type": "code",
   "execution_count": null,
   "id": "8685a639-f623-4902-b520-baa6cf7753ba",
   "metadata": {},
   "outputs": [],
   "source": []
  },
  {
   "cell_type": "code",
   "execution_count": null,
   "id": "5bf53569-3188-41a9-8605-9af666d2cfa0",
   "metadata": {},
   "outputs": [],
   "source": []
  },
  {
   "cell_type": "code",
   "execution_count": 15,
   "id": "10bff40a-ed23-4022-af4a-d5fc53c282cc",
   "metadata": {},
   "outputs": [
    {
     "name": "stderr",
     "output_type": "stream",
     "text": [
      "100%|██████████| 206096/206096 [00:03<00:00, 58590.35it/s]\n"
     ]
    }
   ],
   "source": [
    "# ---------------------------- Make prediction for test set ---------------------------\n",
    "###### prepare test set to make prediction\n",
    "###### expand each row of test samples to 9 rows, each correspond to a step\n",
    "from DataPrep import getUserFeaturesTestSet, getClickedItems, getUserPortraits\n",
    "userIDs, _ = getUserFeaturesTestSet()\n",
    "_, clickedItemsTest = getClickedItems()\n",
    "_, userPortraitsTest = getUserPortraits()\n",
    "\n",
    "statesTest = []  # user portrait + step one-hot-encoded + whether item was clicked\n",
    "for i in tqdm(range(userPortraitsTest.shape[0])):\n",
    "# loop through samples\n",
    "    userPortraits = list(userPortraitsTest[i])  # this is list of 10\n",
    "    for step in range(9):\n",
    "        step_encoded = [0]*step + [1] + [0]*(8-step)\n",
    "        statesTest.append(userPortraits + step_encoded)\n"
   ]
  },
  {
   "cell_type": "code",
   "execution_count": 22,
   "id": "71f1f727-8c8d-4034-8621-11c3f73591ca",
   "metadata": {},
   "outputs": [
    {
     "name": "stderr",
     "output_type": "stream",
     "text": [
      "100%|██████████| 381/381 [1:27:58<00:00, 13.85s/it]\n"
     ]
    }
   ],
   "source": [
    "# predict value for each action\n",
    "# result: 2D matrix, D1: samples, D2: N_ITEMS\n",
    "values_allActions = []\n",
    "for itemID in tqdm(range(1, N_ITEMS+1)):\n",
    "    statesTest_wClick = []\n",
    "    # prepare states with click column\n",
    "    for i in range(len(statesTest)):\n",
    "        clickedItems = clickedItemsTest[i//9]\n",
    "        if itemID in clickedItems:\n",
    "            click = [1]\n",
    "        else:\n",
    "            click = [0]\n",
    "        statesTest_wClick.append(statesTest[i] + click)\n",
    "    # predict value for this itemID\n",
    "    statesTest_wClick = np.array(statesTest_wClick)\n",
    "    actions = np.array([itemID]*statesTest_wClick.shape[0])\n",
    "    values_allStates = BCQModel.predict_value(statesTest_wClick, actions)\n",
    "    values_allActions.append(values_allStates)"
   ]
  },
  {
   "cell_type": "raw",
   "id": "3cd3976a-78a3-4795-93e8-0988d65da7ae",
   "metadata": {},
   "source": []
  },
  {
   "cell_type": "code",
   "execution_count": 30,
   "id": "6accf419-8a76-4a77-ae15-be1faa486050",
   "metadata": {},
   "outputs": [
    {
     "name": "stderr",
     "output_type": "stream",
     "text": [
      "100%|██████████| 1854864/1854864 [02:36<00:00, 11871.62it/s]\n"
     ]
    }
   ],
   "source": [
    "# finalize best itemIDs\n",
    "items_out = []\n",
    "for i in tqdm(range(len(statesTest))):\n",
    "# loop thru expanded samples *9\n",
    "    if i%9==0:\n",
    "        items = []\n",
    "        for step in range(9):\n",
    "            rowID = i + step # row index on statesTest\n",
    "            values = [ v[rowID] for v in values_allActions ] # length N_ITEMS, value for each action in this step\n",
    "            negValues = [-v for v in values]\n",
    "            order = np.argsort(negValues)\n",
    "            for j in order:\n",
    "                itemID = j + 1\n",
    "                if itemID not in items:\n",
    "                    items.append(itemID)\n",
    "                    break\n",
    "        # done predicting for all 9 steps\n",
    "        items_out.append(items)\n"
   ]
  },
  {
   "cell_type": "code",
   "execution_count": 31,
   "id": "361e8986-9dc3-46b4-ae72-d6d5e2c4e05c",
   "metadata": {},
   "outputs": [
    {
     "name": "stdout",
     "output_type": "stream",
     "text": [
      "[[124, 68, 31, 140, 64, 23, 120, 118, 139], [31, 68, 120, 9, 21, 23, 32, 119, 20], [124, 68, 31, 140, 64, 23, 120, 118, 139], [31, 139, 68, 120, 332, 23, 21, 118, 119], [31, 9, 23, 68, 21, 32, 20, 119, 120], [31, 120, 68, 23, 9, 21, 32, 119, 124], [118, 31, 23, 2, 30, 124, 32, 3, 39], [68, 31, 9, 120, 32, 23, 21, 20, 30], [332, 139, 31, 68, 9, 32, 23, 4, 120], [31, 68, 9, 23, 120, 139, 64, 124, 21], [68, 31, 9, 120, 23, 21, 64, 119, 32], [31, 68, 23, 21, 120, 30, 9, 32, 8], [68, 9, 31, 139, 120, 21, 23, 332, 64], [9, 68, 31, 21, 120, 32, 23, 30, 20], [31, 68, 120, 9, 21, 23, 32, 119, 20], [68, 31, 120, 9, 23, 64, 119, 32, 21], [31, 68, 9, 32, 23, 20, 21, 120, 30], [23, 31, 68, 9, 124, 21, 139, 64, 120], [31, 9, 21, 23, 68, 120, 32, 20, 30], [31, 68, 120, 9, 23, 64, 21, 139, 30], [68, 31, 9, 23, 32, 20, 21, 120, 8], [68, 23, 9, 31, 21, 118, 4, 119, 57], [23, 21, 31, 9, 32, 120, 68, 119, 30], [9, 31, 68, 23, 32, 21, 20, 30, 8], [31, 68, 9, 21, 23, 32, 20, 139, 119], [31, 23, 9, 21, 119, 30, 68, 118, 32], [68, 31, 23, 9, 21, 119, 118, 32, 20], [31, 120, 9, 23, 119, 68, 21, 32, 139], [31, 9, 32, 23, 68, 30, 124, 120, 21], [31, 9, 120, 23, 68, 21, 32, 30, 119], [31, 120, 68, 23, 9, 21, 119, 32, 8], [31, 68, 120, 9, 119, 23, 64, 332, 32], [9, 31, 23, 120, 68, 32, 21, 119, 20], [68, 31, 9, 23, 32, 21, 120, 20, 119], [31, 68, 120, 9, 119, 23, 64, 332, 32], [9, 68, 31, 21, 23, 30, 120, 32, 20], [31, 9, 23, 68, 21, 32, 20, 119, 120], [31, 68, 9, 23, 120, 139, 64, 124, 21], [9, 68, 31, 32, 30, 21, 23, 8, 20], [68, 31, 9, 120, 32, 23, 21, 20, 30], [31, 9, 124, 68, 23, 21, 30, 139, 120], [68, 9, 31, 139, 120, 21, 23, 332, 64], [31, 68, 9, 120, 139, 23, 30, 64, 124], [332, 139, 31, 124, 68, 64, 23, 118, 120], [9, 31, 68, 23, 32, 21, 20, 30, 8], [31, 23, 68, 9, 120, 21, 32, 119, 20], [31, 68, 23, 9, 21, 30, 20, 32, 120], [31, 68, 9, 32, 23, 20, 21, 120, 30], [68, 31, 23, 120, 9, 21, 32, 118, 119], [31, 68, 9, 120, 23, 21, 32, 119, 30]]\n"
     ]
    }
   ],
   "source": [
    "# calculate % of recommended items in the clicked items\n",
    "count = 0\n",
    "for items in tqdm(items_out):"
   ]
  },
  {
   "cell_type": "code",
   "execution_count": null,
   "id": "ad8b2625-489a-4ba9-b91c-0413f482fe6c",
   "metadata": {},
   "outputs": [],
   "source": [
    "# write recommended items to output csv file\n",
    "from classes.output import writeOutput\n",
    "writeOutput(items_out, 'BCQ-QLearning_v3.csv', userIDs)"
   ]
  }
 ],
 "metadata": {
  "kernelspec": {
   "display_name": "Python 3",
   "language": "python",
   "name": "python3"
  },
  "language_info": {
   "codemirror_mode": {
    "name": "ipython",
    "version": 3
   },
   "file_extension": ".py",
   "mimetype": "text/x-python",
   "name": "python",
   "nbconvert_exporter": "python",
   "pygments_lexer": "ipython3",
   "version": "3.8.8"
  }
 },
 "nbformat": 4,
 "nbformat_minor": 5
}
