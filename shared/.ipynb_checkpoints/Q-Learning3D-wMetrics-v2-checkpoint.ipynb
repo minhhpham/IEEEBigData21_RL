{
 "cells": [
  {
   "cell_type": "code",
   "execution_count": 1,
   "id": "5ddb076b-990b-42e5-92f6-a9a6e419e7ae",
   "metadata": {},
   "outputs": [],
   "source": [
    "##########################################################\n",
    "# Q-learning implementation with 3D Item Sets, game has 3 states 0, 1, 2\n",
    "# 1. split train data into training set and test set\n",
    "# 2. train Q-Tables on Training set\n",
    "# 3. make suggestions for test set\n",
    "# 4. Calculate Metrics 1 for our suggestions\n",
    "# 5. Make prediction for the competition's test set\n",
    "#########################################################"
   ]
  },
  {
   "cell_type": "code",
   "execution_count": 1,
   "id": "9c5eae65-28fb-43a4-a2d7-8b1413d510d2",
   "metadata": {},
   "outputs": [
    {
     "name": "stdout",
     "output_type": "stream",
     "text": [
      "Number of Multiprocessing threads: 31\n"
     ]
    }
   ],
   "source": [
    "# 1. Split Train \n",
    "from DataPrep import *\n",
    "userFeaturesTrain, recItemsTrain, purchaseLabelTrain, userFeaturesVal, recItemsVal, purchaseLabelVal = splitTrainSet()\n",
    "userFeaturesTrain = pd.concat((userFeaturesTrain, userFeaturesVal), ignore_index=True)\n",
    "recItemsTrain = np.vstack((recItemsTrain, recItemsVal))\n",
    "purchaseLabelTrain = np.vstack((purchaseLabelTrain, purchaseLabelVal))"
   ]
  },
  {
   "cell_type": "code",
   "execution_count": 2,
   "id": "829abf27-4063-40a6-94de-ad99f8ca54d6",
   "metadata": {},
   "outputs": [
    {
     "name": "stdout",
     "output_type": "stream",
     "text": [
      "Number of Item Sets 3: 112368\n"
     ]
    }
   ],
   "source": [
    "# dimension reduction with PCA and clustering\n",
    "# comment this part out to use original user features \n",
    "\n",
    "# cluster model userFeatures of by 60D features\n",
    "from DataPrep import getClusterModel200_20D\n",
    "PCAModel, clusterModel = getPCA_Clustering_Models()\n",
    "NCLUSTERS = 100\n",
    "\n",
    "userFeaturesTrain_transformed = PCAModel.transform(userFeaturesTrain)\n",
    "clusterLabelsTrain = clusterModel.predict(userFeaturesTrain_transformed)\n",
    "\n",
    "userFeaturesVal_transformed = PCAModel.transform(userFeaturesVal)\n",
    "clusterLabelsVal = clusterModel.predict(userFeaturesVal_transformed)\n",
    "\n",
    "# load item info\n",
    "from classes.Items import Items\n",
    "itemInfo = Items()\n",
    "# load itemset info\n",
    "from classes.ItemSet import ItemSet3\n",
    "itemSets = ItemSet3()\n",
    "N_Sets = itemSets.getNSets()\n",
    "print('Number of Item Sets 3: ' + str(N_Sets))\n"
   ]
  },
  {
   "cell_type": "code",
   "execution_count": 3,
   "id": "c6837766-347a-4c21-9259-3a1cefeb2b1f",
   "metadata": {},
   "outputs": [
    {
     "name": "stderr",
     "output_type": "stream",
     "text": [
      "100%|██████████| 260087/260087 [00:15<00:00, 16327.25it/s]\n"
     ]
    }
   ],
   "source": [
    "# 2.\n",
    "import numpy as np\n",
    "from tqdm import tqdm\n",
    "from classes.QLearning2 import *\n",
    "\n",
    "# initialize Q tables \n",
    "QLModels = []\n",
    "trainData = []\n",
    "for i in range(NCLUSTERS):\n",
    "    QLModels.append(QLearning(n_states = 3, n_actions = N_Sets))\n",
    "    trainData.append([])\n",
    "\n",
    "# to train Q tables: \n",
    "#### state: 0, 1, or 2\n",
    "#### action: the itemSet recommended\n",
    "#### reward: (item is purchased) * price\n",
    "#### nextState: 1 or 2. -1 if there is no next state\n",
    "#### to feed a set of (state, action, reward) to a Q table\n",
    "for i in tqdm(range(len(recItemsTrain))):\n",
    "# loop thru samples\n",
    "    recItems = recItemsTrain[i]\n",
    "    purLabel = purchaseLabelTrain[i]\n",
    "    for j in [0, 3, 6]: # process each Set3 at once\n",
    "        if j>2 and purLabel[0]*purLabel[1]*purLabel[2]==0:\n",
    "            # don't train if game stopped\n",
    "            break\n",
    "        if j>5 and purLabel[3]*purLabel[4]*purLabel[5]==0:\n",
    "            # don't train if game stopped\n",
    "            break\n",
    "        # calculate state:\n",
    "        state = int(j/3)\n",
    "        # next state:\n",
    "        if j==0:\n",
    "            if purLabel[0]*purLabel[1]*purLabel[2]==0: # terminated\n",
    "                nextState = -1\n",
    "            else:\n",
    "                nextState = 1\n",
    "        elif j==3:\n",
    "            if purLabel[3]*purLabel[4]*purLabel[5]==0: # terminated\n",
    "                nextState = -1\n",
    "            else:\n",
    "                nextState = 2\n",
    "        else:\n",
    "            nextState = -1\n",
    "        \n",
    "        # calculate action:\n",
    "        itemSet = [recItems[j], recItems[j+1], recItems[j+2]]\n",
    "        action = itemSets.getSetID(itemSet)\n",
    "\n",
    "        # calculate rewards, note: itemPrice is an array, itemID from raw data is 1-based index\n",
    "        prices = [itemInfo.getItemPrice(itemSet[0]), itemInfo.getItemPrice(itemSet[1]), itemInfo.getItemPrice(itemSet[2])]\n",
    "        labels = [purLabel[j], purLabel[j+1], purLabel[j+2]]\n",
    "        reward = sum([prices[t]*labels[t] for t in range(3)])\n",
    "\n",
    "        train_data = (state, action, reward, nextState)\n",
    "        # predict user cluster label of this sample based on user features\n",
    "        clusterID = clusterLabelsTrain[i]\n",
    "        trainData[clusterID].append(train_data)\n"
   ]
  },
  {
   "cell_type": "code",
   "execution_count": 4,
   "id": "0c523f6e-39c2-4816-b86d-8fb9b06bd944",
   "metadata": {},
   "outputs": [
    {
     "name": "stderr",
     "output_type": "stream",
     "text": [
      "100%|██████████| 100/100 [05:11<00:00,  3.11s/it]\n"
     ]
    }
   ],
   "source": [
    "for i in tqdm(range(NCLUSTERS)):\n",
    "    QLModels[i].trainParallel(trainData[i])"
   ]
  },
  {
   "cell_type": "code",
   "execution_count": 5,
   "id": "b8326ea5-e20e-426a-8c64-3bf1723d75fd",
   "metadata": {},
   "outputs": [
    {
     "name": "stderr",
     "output_type": "stream",
     "text": [
      "100%|██████████| 52018/52018 [00:03<00:00, 13660.08it/s]\n"
     ]
    }
   ],
   "source": [
    "# 3. make suggestion for Val set\n",
    "# make suggestion for each test sample\n",
    "for i in range(NCLUSTERS):\n",
    "    QLModels[i].initPredCache()\n",
    "\n",
    "items_out_val = []\n",
    "for cluster in tqdm(clusterLabelsVal):\n",
    "# clusterLabelsVal is array of labels of users in Val set\n",
    "    model = QLModels[cluster]\n",
    "    bestSetIDs = QLModels[cluster].predictBestK(2, 1000)\n",
    "    items4Sample = []\n",
    "    for setID in bestSetIDs:\n",
    "        items = itemSets.getItemSet(setID)\n",
    "        if items[0] not in items4Sample and items[1] not in items4Sample and items[2] not in items4Sample:\n",
    "            items4Sample.extend(list(items))\n",
    "        if len(items4Sample)==9:\n",
    "            break\n",
    "    items_out_val.append(items4Sample)\n",
    "assert len(items_out_val)==len(clusterLabelsVal)"
   ]
  },
  {
   "cell_type": "code",
   "execution_count": 10,
   "id": "70638934-e463-40c3-8c9a-e63f28edf0f1",
   "metadata": {},
   "outputs": [],
   "source": [
    "# Calculate Metrics 1 for our suggestions"
   ]
  },
  {
   "cell_type": "code",
   "execution_count": 7,
   "id": "aaeff949-6cf0-4062-a14f-b6a65e84586c",
   "metadata": {},
   "outputs": [
    {
     "name": "stdout",
     "output_type": "stream",
     "text": [
      "103103735000\n",
      "159061267871\n",
      "percentage of max score: 0.6482013904454602\n"
     ]
    }
   ],
   "source": [
    "# 4. calculate metrics\n",
    "from classes.Metrics import Metrics\n",
    "metrics = Metrics(recItemsVal, purchaseLabelVal)\n",
    "score = metrics.calculate_metrics2(items_out_val, w3 = 1000)\n",
    "print(score)\n",
    "# calculate metrics of test set (max score possible by ground truth)\n",
    "score_max = metrics.calculate_metrics2(recItemsVal, w3 = 1000)\n",
    "print(score_max) # max score possible\n",
    "print('percentage of max score: ' + str(score/score_max))"
   ]
  },
  {
   "cell_type": "code",
   "execution_count": 8,
   "id": "0c3723a7-1e4d-4253-9b8c-a60001c1eb1f",
   "metadata": {},
   "outputs": [],
   "source": [
    "# 5. make suggestion for competition's test set\n",
    "# predict user cluster label for users in the test set\n",
    "userIDs, userFeaturesTest = getUserFeaturesTestSet()\n",
    "userFeaturesTest_transformed = PCAModel.transform(userFeaturesTest)\n",
    "clusterLabelsTest = clusterModel.predict(userFeaturesTest_transformed)"
   ]
  },
  {
   "cell_type": "code",
   "execution_count": 9,
   "id": "3599bc91-ef71-4092-9577-83107203304b",
   "metadata": {},
   "outputs": [
    {
     "name": "stderr",
     "output_type": "stream",
     "text": [
      "100%|██████████| 206096/206096 [00:07<00:00, 27528.33it/s]\n"
     ]
    }
   ],
   "source": [
    "# make suggestion for each test sample\n",
    "for i in range(NCLUSTERS):\n",
    "    QLModels[i].initPredCache()\n",
    "\n",
    "items_out_test = []\n",
    "for cluster in tqdm(clusterLabelsTest):\n",
    "# clusterLabelsVal is array of labels of users in Val set\n",
    "    model = QLModels[cluster]\n",
    "    bestSetIDs = QLModels[cluster].predictBestK(2, 1000)\n",
    "    items4Sample = []\n",
    "    for setID in bestSetIDs:\n",
    "        items = itemSets.getItemSet(setID)\n",
    "        if items[0] not in items4Sample and items[1] not in items4Sample and items[2] not in items4Sample:\n",
    "            items4Sample = list(items) + items4Sample\n",
    "        if len(items4Sample)==9:\n",
    "            break\n",
    "    assert len(items4Sample)==9\n",
    "    items_out_test.append(items4Sample)\n",
    "assert len(items_out_test)==len(clusterLabelsTest)"
   ]
  },
  {
   "cell_type": "code",
   "execution_count": 10,
   "id": "c6c516d0-14af-4f87-87cf-d65347625cf1",
   "metadata": {},
   "outputs": [],
   "source": [
    "# write recommended items to output csv file\n",
    "from classes.output import writeOutput\n",
    "writeOutput(items_out_test, 'QLearning-3D-PCA-Cluster-v2.csv', userIDs)"
   ]
  },
  {
   "cell_type": "code",
   "execution_count": 11,
   "id": "7ffc10b4-435c-4399-b2f8-4cf428f59410",
   "metadata": {},
   "outputs": [
    {
     "name": "stdout",
     "output_type": "stream",
     "text": [
      "[[171, 200, 220, 172, 219, 234, 160, 191, 214], [172, 199, 235, 164, 200, 233, 171, 234, 237], [171, 200, 220, 172, 219, 234, 160, 191, 214], [172, 199, 221, 171, 200, 220, 158, 159, 213], [172, 199, 221, 164, 200, 234, 171, 192, 235], [172, 199, 220, 164, 200, 234, 157, 171, 222], [172, 199, 234, 160, 196, 200, 164, 233, 235], [171, 234, 235, 172, 199, 213, 158, 164, 214], [172, 199, 235, 164, 200, 234, 160, 196, 237], [160, 199, 200, 172, 234, 235, 164, 233, 237], [160, 196, 199, 164, 200, 233, 172, 234, 237], [172, 199, 221, 164, 200, 234, 160, 188, 235], [172, 199, 233, 164, 200, 239, 160, 216, 234], [172, 199, 234, 164, 200, 233, 160, 188, 196], [172, 199, 235, 164, 200, 233, 171, 234, 237], [172, 199, 234, 164, 194, 200, 171, 233, 237], [172, 199, 221, 171, 200, 220, 158, 159, 213], [172, 199, 221, 164, 200, 235, 171, 233, 239], [172, 233, 235, 164, 199, 200, 160, 234, 248], [172, 199, 234, 164, 194, 200, 171, 233, 237], [172, 234, 235, 164, 200, 233, 158, 168, 199], [171, 200, 221, 172, 199, 220, 164, 233, 235], [171, 200, 221, 172, 199, 220, 164, 233, 235], [172, 196, 234, 164, 199, 200, 171, 192, 233], [172, 199, 235, 164, 200, 233, 171, 191, 218], [172, 199, 220, 164, 200, 234, 157, 171, 222], [172, 199, 233, 158, 164, 221, 171, 200, 236], [172, 199, 235, 164, 200, 234, 160, 196, 237], [172, 199, 234, 171, 200, 237, 164, 233, 235], [172, 199, 220, 164, 188, 234, 171, 214, 221], [172, 199, 221, 160, 200, 234, 164, 194, 235], [160, 196, 199, 164, 200, 233, 172, 234, 237], [172, 199, 220, 171, 196, 200, 160, 221, 233], [172, 199, 234, 164, 200, 233, 160, 188, 196], [160, 196, 199, 164, 200, 233, 172, 234, 237], [171, 200, 213, 172, 196, 234, 149, 160, 233], [172, 199, 221, 164, 200, 234, 171, 192, 235], [160, 199, 200, 172, 234, 235, 164, 233, 237], [172, 196, 234, 164, 199, 200, 171, 192, 233], [171, 234, 235, 172, 199, 213, 158, 164, 214], [172, 196, 234, 164, 200, 237, 171, 213, 233], [172, 199, 233, 164, 200, 239, 160, 216, 234], [172, 234, 235, 160, 199, 200, 164, 212, 233], [160, 200, 235, 172, 199, 221, 171, 187, 219], [172, 196, 234, 164, 199, 200, 171, 192, 233], [158, 160, 236, 172, 199, 234, 171, 200, 214], [172, 199, 234, 164, 200, 233, 160, 188, 196], [172, 199, 221, 171, 200, 220, 158, 159, 213], [172, 199, 220, 171, 196, 200, 160, 221, 233], [172, 199, 234, 164, 200, 233, 160, 188, 196]]\n"
     ]
    }
   ],
   "source": [
    "print(items_out_test[:50])\n"
   ]
  },
  {
   "cell_type": "code",
   "execution_count": 4,
   "id": "7137db78-71de-435a-aeaa-f5cda83f6191",
   "metadata": {},
   "outputs": [
    {
     "data": {
      "text/plain": [
       "dtype('float32')"
      ]
     },
     "execution_count": 4,
     "metadata": {},
     "output_type": "execute_result"
    }
   ],
   "source": []
  },
  {
   "cell_type": "code",
   "execution_count": null,
   "id": "23847e2d-5887-479e-8b35-65bd9867abad",
   "metadata": {},
   "outputs": [],
   "source": []
  }
 ],
 "metadata": {
  "kernelspec": {
   "display_name": "Python 3",
   "language": "python",
   "name": "python3"
  },
  "language_info": {
   "codemirror_mode": {
    "name": "ipython",
    "version": 3
   },
   "file_extension": ".py",
   "mimetype": "text/x-python",
   "name": "python",
   "nbconvert_exporter": "python",
   "pygments_lexer": "ipython3",
   "version": "3.8.8"
  }
 },
 "nbformat": 4,
 "nbformat_minor": 5
}
